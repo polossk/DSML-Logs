{
 "cells": [
  {
   "cell_type": "code",
   "execution_count": 1,
   "metadata": {
    "collapsed": true
   },
   "outputs": [],
   "source": [
    "import numpy as np\n",
    "import pandas as pd\n",
    "import matplotlib.pyplot as plt\n",
    "\n",
    "import sys\n",
    "sys.path.append('../')\n",
    "from utils.pickle_helper import *\n",
    "from utils.csv_helper import *\n",
    "from utils.onehot_helper import *\n",
    "\n",
    "def size(_): print(np.shape(_))"
   ]
  },
  {
   "cell_type": "code",
   "execution_count": 2,
   "metadata": {},
   "outputs": [
    {
     "name": "stdout",
     "output_type": "stream",
     "text": [
      "<class 'pandas.core.frame.DataFrame'>\n",
      "Index: 500 entries, ID001 to ID715\n",
      "Columns: 8077 entries, TOOL_ID_0 to Y\n",
      "dtypes: float64(6217), int64(1798), object(62)\n",
      "memory usage: 30.8+ MB\n"
     ]
    }
   ],
   "source": [
    "pddf = read_pickle('raw_data.dataframe.bin')\n",
    "pddf.info()"
   ]
  },
  {
   "cell_type": "code",
   "execution_count": 3,
   "metadata": {},
   "outputs": [
    {
     "data": {
      "text/plain": [
       "Index(['ID001', 'ID002', 'ID003', 'ID004', 'ID005', 'ID006', 'ID007', 'ID010',\n",
       "       'ID011', 'ID012',\n",
       "       ...\n",
       "       'ID706', 'ID707', 'ID708', 'ID709', 'ID710', 'ID711', 'ID712', 'ID713',\n",
       "       'ID714', 'ID715'],\n",
       "      dtype='object', length=500)"
      ]
     },
     "execution_count": 3,
     "metadata": {},
     "output_type": "execute_result"
    }
   ],
   "source": [
    "pddf.index"
   ]
  },
  {
   "cell_type": "code",
   "execution_count": 4,
   "metadata": {},
   "outputs": [
    {
     "name": "stdout",
     "output_type": "stream",
     "text": [
      "(500, 8076)\n",
      "(500,)\n"
     ]
    }
   ],
   "source": [
    "# 生成 x, y\n",
    "x = np.array(pddf.drop(['Y'], axis=1))\n",
    "y = np.array(pddf['Y'])\n",
    "size(x)\n",
    "size(y)"
   ]
  },
  {
   "cell_type": "code",
   "execution_count": 5,
   "metadata": {},
   "outputs": [
    {
     "data": {
      "text/plain": [
       "(500, 8014)"
      ]
     },
     "execution_count": 5,
     "metadata": {},
     "output_type": "execute_result"
    }
   ],
   "source": [
    "# 缺失值填充: median 表示中位数, mean 表示平均数\n",
    "from sklearn.preprocessing import Imputer\n",
    "imp = Imputer(missing_values='NaN', strategy='mean', axis=0)\n",
    "# imp = Imputer(missing_values='NaN', strategy='median', axis=0)\n",
    "x_imp = imp.fit_transform(x)\n",
    "# x_iimp = imp.inverse_transform(x_imp)\n",
    "np.shape(x_imp)"
   ]
  },
  {
   "cell_type": "code",
   "execution_count": 6,
   "metadata": {},
   "outputs": [
    {
     "name": "stdout",
     "output_type": "stream",
     "text": [
      "[8076x500] => [8014x500]\n",
      "totle lost:  62\n",
      "342 220X150\t343 220X151\t3728 340X12\t3730 340X14\t3732 340X16\t\n",
      "3748 340X32\t3766 340X50\t3768 340X52\t3770 340X54\t3772 340X56\t\n",
      "3774 340X58\t3776 340X60\t3778 340X62\t3780 340X64\t3782 340X66\t\n",
      "3784 340X68\t3786 340X70\t3788 340X72\t3790 340X74\t3792 340X76\t\n",
      "3794 340X78\t3796 340X80\t3798 340X82\t3800 340X84\t3802 340X86\t\n",
      "3804 340X88\t3806 340X90\t3808 340X92\t3810 340X94\t3812 340X96\t\n",
      "3814 340X98\t3816 340X100\t3818 340X102\t3820 340X104\t3822 340X106\t\n",
      "3828 340X112\t3830 340X114\t3832 340X116\t3834 340X118\t3836 340X120\t\n",
      "3838 340X122\t3847 340X131\t3858 340X142\t3860 340X144\t3862 340X146\t\n",
      "3864 340X148\t3866 340X150\t3868 340X152\t3870 340X154\t3872 340X156\t\n",
      "3874 340X158\t3876 340X160\t3878 340X162\t3880 340X164\t3882 340X166\t\n",
      "3884 340X168\t3886 340X170\t3888 340X172\t3890 340X174\t3892 340X176\t\n",
      "3894 340X178\t3896 340X180\t\n"
     ]
    }
   ],
   "source": [
    "# 缺失值填充后, 表中缺失列\n",
    "old_shape, new_shape = len(x[0]), len(x_imp[0])\n",
    "print('[{0}x500] => [{1}x500]'.format( old_shape, new_shape ))\n",
    "print('totle lost: ', old_shape - new_shape)\n",
    "l = len(imp.statistics_)\n",
    "selected = np.isnan(imp.statistics_)\n",
    "valid_mask = np.logical_not(selected)\n",
    "original_column = pddf.columns[:-1]\n",
    "cnt = 0\n",
    "for i in range(l):\n",
    "    if selected[i]:\n",
    "        print(i, original_column[i], end='\\t')\n",
    "        cnt += 1\n",
    "        if cnt > 0 and cnt % 5 == 0: print()\n",
    "print()\n",
    "remain_column = original_column[valid_mask]"
   ]
  },
  {
   "cell_type": "code",
   "execution_count": 7,
   "metadata": {
    "collapsed": true
   },
   "outputs": [],
   "source": [
    "# 数据标准化: 最大最小值\n",
    "from sklearn.preprocessing import MinMaxScaler\n",
    "scaler = MinMaxScaler()\n",
    "x_scl = scaler.fit_transform(x_imp)"
   ]
  },
  {
   "cell_type": "code",
   "execution_count": 8,
   "metadata": {
    "collapsed": true
   },
   "outputs": [],
   "source": [
    "# 方差筛选: 小于 0.8 * (1 - 0.8) 的方差的特征将被删除\n",
    "from sklearn.feature_selection import VarianceThreshold\n",
    "sel = VarianceThreshold(threshold=(.8 * (1 - .8)))\n",
    "x_var = sel.fit_transform(x_scl)\n",
    "x_ivar = sel.inverse_transform(x_var)"
   ]
  },
  {
   "cell_type": "code",
   "execution_count": 9,
   "metadata": {},
   "outputs": [
    {
     "name": "stdout",
     "output_type": "stream",
     "text": [
      "[8014x500] => [533x500]\n",
      "totle lost:  7481\n",
      "2     TOOL_ID_2   \t3     TOOL_ID_3   \t23    210X18      \t209   210X204     \t210   210X205     \t\n",
      "217   210X213     \t219   210X215     \t240   220X3       \t253   220X16      \t257   220X20      \t\n",
      "283   220X60      \t287   220X66      \t288   220X67      \t289   220X70      \t290   220X71      \t\n",
      "291   220X74      \t292   220X75      \t293   220X78      \t294   220X79      \t295   220X82      \t\n",
      "296   220X83      \t297   220X86      \t298   220X87      \t299   220X90      \t300   220X91      \t\n",
      "301   220X94      \t302   220X95      \t303   220X98      \t305   220X103     \t310   220X109     \t\n",
      "336   220X138     \t337   220X140     \t341   220X147     \t403   220X219     \t408   220X225     \t\n",
      "409   220X226     \t410   220X227     \t411   220X228     \t412   220X229     \t413   220X230     \t\n",
      "414   220X231     \t415   220X232     \t602   220X419     \t664   220X481     \t668   220X485     \t\n",
      "669   220X486     \t672   220X489     \t718   220X535     \t726   220X543     \t758   300X2       \t\n",
      "762   300X6       \t765   300X9       \t766   300X10      \t769   300X13      \t770   300X14      \t\n",
      "776   300X20      \t779   TOOL_ID (#2)_1\t780   TOOL_ID (#2)_2\t783   310X3       \t796   310X17      \t\n",
      "815   310X36      \t817   310X38      \t823   310X44      \t826   310X49      \t830   310X55      \t\n",
      "831   310X56      \t832   310X59      \t833   310X60      \t834   310X63      \t835   310X64      \t\n",
      "836   310X67      \t837   310X68      \t838   310X71      \t839   310X72      \t840   310X75      \t\n",
      "841   310X76      \t842   310X79      \t843   310X80      \t844   310X83      \t845   310X84      \t\n",
      "846   310X87      \t848   310X92      \t853   310X98      \t879   310X127     \t880   310X129     \t\n",
      "884   310X136     \t907   310X160     \t908   310X161     \t909   310X162     \t946   310X203     \t\n",
      "979   311X29      \t981   311X31      \t1005  311X55      \t1020  311X71      \t1048  311X99      \t\n",
      "1049  311X100     \t1066  311X117     \t1092  311X143     \t1107  311X159     \t1135  311X187     \t\n",
      "1136  311X188     \t1153  311X205     \t1198  261X250     \t1200  261X252     \t1219  261X271     \t\n",
      "1272  261X324     \t1277  261X329     \t1292  261X345     \t1320  261X373     \t1321  261X374     \t\n",
      "1338  261X391     \t1354  261X407     \t1364  261X417     \t1385  261X438     \t1395  261X448     \t\n",
      "1405  261X458     \t1459  261X512     \t1462  261X515     \t1477  261X531     \t1505  261X559     \t\n",
      "1506  261X560     \t1520  261X574     \t1521  261X575     \t1523  261X577     \t1549  261X603     \t\n",
      "1568  261X622     \t1570  261X624     \t1578  261X632     \t1589  261X643     \t1590  261X644     \t\n",
      "1642  261X696     \t1647  261X701     \t1662  261X717     \t1690  261X745     \t1691  261X746     \t\n",
      "1705  261X760     \t1706  261X761     \t1707  261X762     \t1708  261X763     \t1710  Tool (#1)_1 \t\n",
      "1711  Tool (#1)_2 \t1718  312X1       \t1728  312X11      \t1738  312X21      \t1743  312X26      \t\n",
      "1758  312X41      \t1808  312X99      \t1809  312X100     \t1810  312X101     \t1811  312X102     \t\n",
      "1855  312X155     \t1877  312X181     \t1908  312X219     \t1917  312X229     \t1921  312X234     \t\n",
      "1923  312X236     \t1937  312X251     \t1990  312X315     \t2023  312X355     \t2078  312X421     \t\n",
      "2080  312X424     \t2100  312X447     \t2108  312X457     \t2109  312X458     \t2113  312X463     \t\n",
      "2114  312X464     \t2118  312X469     \t2119  312X470     \t2153  312X511     \t2154  312X512     \t\n",
      "2203  312X571     \t2204  312X572     \t2205  312X573     \t2208  312X577     \t2209  312X578     \t\n",
      "2210  312X579     \t2213  312X583     \t2214  312X584     \t2215  312X585     \t2248  312X625     \t\n",
      "2249  312X626     \t2250  312X627     \t2252  312X630     \t2257  312X636     \t2262  312X642     \t\n",
      "2283  312X667     \t2284  312X668     \t2285  312X669     \t2288  312X673     \t2289  312X674     \t\n",
      "2290  312X675     \t2293  312X679     \t2294  312X680     \t2295  312X681     \t2358  312X753     \t\n",
      "2397  Tool (#2)_0 \t2398  Tool (#2)_1 \t2407  330X8       \t2411  330X12      \t2412  330X13      \t\n",
      "2413  330X14      \t2415  330X16      \t2416  330X17      \t2461  330X62      \t2465  330X66      \t\n",
      "2466  330X67      \t2762  330X363     \t2772  330X373     \t2782  330X383     \t2792  330X393     \t\n",
      "2809  330X410     \t2819  330X420     \t2889  330X490     \t2899  330X500     \t2916  330X517     \t\n",
      "3022  330X623     \t3039  330X640     \t3046  330X647     \t3047  330X648     \t3048  330X649     \t\n",
      "3049  330X650     \t3050  330X651     \t3051  330X652     \t3052  330X653     \t3053  330X654     \t\n",
      "3054  330X655     \t3055  330X656     \t3056  330X657     \t3057  330X658     \t3059  330X660     \t\n",
      "3060  330X661     \t3061  330X662     \t3063  330X664     \t3064  330X665     \t3066  330X667     \t\n",
      "3067  330X668     \t3305  330X906     \t3306  330X907     \t3452  330X1053    \t3453  330X1054    \t\n",
      "3458  330X1059    \t3461  330X1062    \t3465  330X1066    \t3466  330X1067    \t3467  330X1068    \t\n",
      "3469  330X1070    \t3470  330X1071    \t3472  330X1073    \t3473  330X1074    \t3482  330X1083    \t\n",
      "3483  330X1084    \t3498  330X1099    \t3501  330X1102    \t3505  330X1106    \t3506  330X1107    \t\n",
      "3507  330X1108    \t3509  330X1110    \t3510  330X1111    \t3512  330X1113    \t3513  330X1114    \t\n",
      "3514  330X1115    \t3558  330X1159    \t3564  330X1165    \t3567  330X1168    \t3568  330X1169    \t\n",
      "3580  330X1181    \t3582  330X1183    \t3612  330X1213    \t3619  330X1220    \t3623  330X1224    \t\n",
      "3624  330X1225    \t3625  330X1226    \t3626  330X1227    \t3627  330X1228    \t3628  330X1229    \t\n",
      "3630  330X1231    \t3631  330X1232    \t3633  330X1234    \t3635  330X1236    \t3636  330X1237    \t\n",
      "3665  330X1266    \t3668  330X1269    \t3701  330X1302    \t3712  tool_1      \t3713  tool_2      \t\n",
      "3714  tool_3      \t3717  340X3       \t3718  340X4       \t3720  340X6       \t3721  340X7       \t\n",
      "3722  340X8       \t3733  340X22      \t3743  340X33      \t3744  340X34      \t3745  340X35      \t\n",
      "3746  340X36      \t3749  340X39      \t3751  340X41      \t3752  340X42      \t3753  340X43      \t\n",
      "3755  340X45      \t3756  340X46      \t3757  340X47      \t3758  340X48      \t3761  340X53      \t\n",
      "3768  340X67      \t3772  340X75      \t3775  340X81      \t3784  340X99      \t3785  340X101     \t\n",
      "3787  340X105     \t3793  340X113     \t3806  340X132     \t3808  340X134     \t3861  tool (#1)_7 \t\n",
      "3862  tool (#1)_8 \t3863  344X1       \t3899  344X48      \t3900  344X49      \t3927  344X90      \t\n",
      "3928  344X91      \t3929  344X93      \t3931  344X96      \t3933  344X99      \t3935  344X102     \t\n",
      "3937  344X105     \t3939  344X108     \t3941  344X111     \t3971  344X156     \t3978  344X166     \t\n",
      "3999  344X198     \t4007  344X210     \t4013  344X218     \t4232  360X93      \t4235  360X96      \t\n",
      "4830  360X691     \t4849  360X710     \t4850  360X711     \t4856  360X717     \t4857  360X718     \t\n",
      "4935  360X796     \t4945  360X806     \t4946  360X807     \t4956  360X817     \t5055  360X916     \t\n",
      "5065  360X926     \t5141  360X1002    \t5142  360X1003    \t5292  360X1153    \t5293  360X1154    \t\n",
      "5294  360X1155    \t5296  360X1157    \t5297  360X1158    \t5299  360X1160    \t5300  360X1161    \t\n",
      "5303  360X1164    \t5304  360X1165    \t5426  360X1287    \t5430  360X1291    \t5431  360X1292    \t\n",
      "5432  360X1293    \t5482  360X1343    \t5489  360X1350    \t5492  360X1353    \t5581  360X1442    \t\n",
      "5591  360X1452    \t5621  400X35      \t5636  400X56      \t5665  400X85      \t5666  400X86      \t\n",
      "5667  400X87      \t5670  400X90      \t5682  400X108     \t5683  400X109     \t5685  400X111     \t\n",
      "5686  400X112     \t5695  400X121     \t5697  400X123     \t5706  400X138     \t5707  400X139     \t\n",
      "5708  400X140     \t5709  400X141     \t5710  400X142     \t5714  400X146     \t5715  400X147     \t\n",
      "5724  400X156     \t5725  400X157     \t5726  400X158     \t5728  400X160     \t5753  400X204     \t\n",
      "5772  400X228     \t5803  420X34      \t5804  420X35      \t5805  420X36      \t5807  420X38      \t\n",
      "5853  420X103     \t5857  420X110     \t5868  420X121     \t5875  420X134     \t5876  420X135     \t\n",
      "5882  420X141     \t5888  420X147     \t5891  420X150     \t5893  420X152     \t5895  420X154     \t\n",
      "5900  420X159     \t5945  420X228     \t6178  520X1       \t6188  520X11      \t6191  520X14      \t\n",
      "6196  520X19      \t6198  520X21      \t6199  520X22      \t6201  520X24      \t6206  520X29      \t\n",
      "6211  520X34      \t6213  520X36      \t6216  520X39      \t6217  520X40      \t6221  520X44      \t\n",
      "6222  520X45      \t6226  520X49      \t6233  520X56      \t6236  520X59      \t6237  520X60      \t\n",
      "6241  520X64      \t6243  520X66      \t6246  520X69      \t6251  520X74      \t6256  520X79      \t\n",
      "6257  520X80      \t6261  520X84      \t6262  520X85      \t6263  520X86      \t6266  520X89      \t\n",
      "6271  520X94      \t6272  520X95      \t6273  520X96      \t6276  520X99      \t6277  520X100     \t\n",
      "6278  520X101     \t6280  520X103     \t6281  520X104     \t6286  520X109     \t6288  520X111     \t\n",
      "6290  520X113     \t6291  520X114     \t6293  520X116     \t6294  520X117     \t6297  520X120     \t\n",
      "6299  520X122     \t6301  520X124     \t6302  520X125     \t6305  520X128     \t6308  520X131     \t\n",
      "6309  520X132     \t6310  520X133     \t6312  520X135     \t6313  520X136     \t6321  520X144     \t\n",
      "6323  520X146     \t6326  520X151     \t6330  520X156     \t6346  520X174     \t6364  520X192     \t\n",
      "6367  520X196     \t6369  520X200     \t6374  520X215     \t6379  520X224     \t6381  520X226     \t\n",
      "6382  520X227     \t6384  520X229     \t6401  520X246     \t6402  520X247     \t6406  520X251     \t\n",
      "6424  520X271     \t6426  520X274     \t6428  520X278     \t6430  520X281     \t6431  520X282     \t\n",
      "6433  520X284     \t6434  520X285     \t6438  520X289     \t6439  520X290     \t6485  520X338     \t\n",
      "6486  520X340     \t6489  520X345     \t6495  520X351     \t6497  520X353     \t6503  520X361     \t\n",
      "6505  520X365     \t6508  520X370     \t6509  520X372     \t6516  520X383     \t6549  520X420     \t\n",
      "6551  520X424     \t6621  750X60      \t6624  750X63      \t6640  750X79      \t6641  750X80      \t\n",
      "6642  750X81      \t6644  750X83      \t6645  750X84      \t6647  750X86      \t6648  750X87      \t\n",
      "7252  750X691     \t7271  750X710     \t7272  750X711     \t7563  750X1002    \t7564  750X1003    \t\n",
      "7686  750X1125    \t7690  750X1129    \t7693  750X1132    \t7696  750X1135    \t7725  750X1164    \t\n",
      "7726  750X1165    \t7749  750X1188    \t7759  750X1198    \t7837  750X1276    \t7838  750X1277    \t\n",
      "7839  750X1278    \t7840  750X1279    \t7842  750X1281    \t7843  750X1282    \t7845  750X1284    \t\n",
      "7846  750X1285    \t7847  750X1286    \t7848  750X1287    \t7852  750X1291    \t7853  750X1292    \t\n",
      "7854  750X1293    \t7904  750X1343    \t7914  750X1353    \t\n"
     ]
    }
   ],
   "source": [
    "# 方差筛选后, 表中缺失列\n",
    "old_shape, new_shape = len(x_scl[0]), len(x_var[0])\n",
    "print('[{0}x500] => [{1}x500]'.format( old_shape, new_shape ))\n",
    "print('totle lost: ', old_shape - new_shape)\n",
    "l2 = len(sel._get_support_mask())\n",
    "selected2 = sel._get_support_mask()\n",
    "valid_mask = selected2\n",
    "original_column2 = remain_column\n",
    "cnt = 0\n",
    "for i in range(l2):\n",
    "    if selected2[i]:\n",
    "        print(str(i).ljust(5), original_column2[i].ljust(12), end='\\t')\n",
    "        cnt += 1\n",
    "        if cnt > 0 and cnt % 5 == 0: print()\n",
    "print()\n",
    "remain_column2 = original_column2[valid_mask]"
   ]
  },
  {
   "cell_type": "code",
   "execution_count": 10,
   "metadata": {
    "collapsed": true
   },
   "outputs": [],
   "source": [
    "# 扔 matlab 依据重构系数进行 PCA 重构\n",
    "# print(np.shape(x_now))\n",
    "# x_mat = [list(_) for _ in list(x_now)]\n",
    "# x_mat_str = ';'.join([','.join([str(__) for __ in _]) for _ in x_mat])\n",
    "# print('[{0}]'.format(x_mat_str))"
   ]
  },
  {
   "cell_type": "code",
   "execution_count": 11,
   "metadata": {
    "collapsed": true
   },
   "outputs": [],
   "source": [
    "# 特征筛选: PCA 降维 重构系数 99%\n",
    "from sklearn.decomposition import PCA\n",
    "est = PCA(n_components=82)\n",
    "x_pca = est.fit_transform(x_var)"
   ]
  },
  {
   "cell_type": "code",
   "execution_count": 12,
   "metadata": {},
   "outputs": [
    {
     "name": "stdout",
     "output_type": "stream",
     "text": [
      "(500, 82) (500,)\n",
      "(500, 83)\n"
     ]
    },
    {
     "data": {
      "image/png": "[encoded data removed]",
      "text/plain": [
       "<matplotlib.figure.Figure at 0x10a5bf28>"
      ]
     },
     "metadata": {},
     "output_type": "display_data"
    }
   ],
   "source": [
    "# 将 x,y 拼接并按照 y 值大小排序, 观察 y 的性质\n",
    "x_final = x_pca\n",
    "print(np.shape(x_final), np.shape(y)) # x_final = [500x82], y = [500x1]\n",
    "xy = np.column_stack((x_final, y)) # xy = [x_final, y], [500x83]\n",
    "print(np.shape(xy))\n",
    "xy_sortby_y = xy[xy[:, -1].argsort()]\n",
    "y_sorted = xy_sortby_y[:, -1]\n",
    "ymin = np.min(y_sorted)\n",
    "ymax = np.max(y_sorted)\n",
    "y_scl = (y_sorted - ymin) / (ymax - ymin)\n",
    "xy_sortby_y[:, -1] = y_scl\n",
    "x_test = np.linspace(-0.5, 0.5, 500)\n",
    "plt.scatter(x_test, xy_sortby_y[:, -1])\n",
    "plt.show()"
   ]
  },
  {
   "cell_type": "code",
   "execution_count": 13,
   "metadata": {
    "collapsed": true
   },
   "outputs": [],
   "source": [
    "# 导出数据到 matlab 去拟合 y\n",
    "# print(', '.join([str(_) for _ in list(xy_sortby_y[:, -1])]))"
   ]
  },
  {
   "cell_type": "code",
   "execution_count": 14,
   "metadata": {},
   "outputs": [
    {
     "data": {
      "image/png": "[encoded data removed]",
      "text/plain": [
       "<matplotlib.figure.Figure at 0x10a71d68>"
      ]
     },
     "metadata": {},
     "output_type": "display_data"
    }
   ],
   "source": [
    "# 发现非线性关系后 规整化 y 并重新组装\n",
    "def fu(y): # f: y -> u\n",
    "    a = 0.172020013840487\n",
    "    b = 2.355955139758581\n",
    "    c = 0.028332501141596\n",
    "    d = 0.450477070771684\n",
    "    return (np.arctan((y - d) / a) - c) / b\n",
    "\n",
    "def gy(u): # g: u -> y\n",
    "    a = 0.172020013840487\n",
    "    b = 2.355955139758581\n",
    "    c = 0.028332501141596\n",
    "    d = 0.450477070771684\n",
    "    return a * np.tan(b * u + c) + d\n",
    "\n",
    "def scalar(a, amax, amin):\n",
    "    return (a - amin) / (amax - amin)\n",
    "\n",
    "def rebuild(a, amax, amin):\n",
    "    return a * (amax - amin) + amin;\n",
    "    \n",
    "y_smooth = fu(y_scl)\n",
    "xy_sortby_y[:, -1] = y_smooth\n",
    "plt.scatter(x_test, y_smooth)\n",
    "plt.show()"
   ]
  },
  {
   "cell_type": "code",
   "execution_count": 15,
   "metadata": {},
   "outputs": [
    {
     "data": {
      "image/png": "[encoded data removed]",
      "text/plain": [
       "<matplotlib.figure.Figure at 0x10a48fd0>"
      ]
     },
     "metadata": {},
     "output_type": "display_data"
    }
   ],
   "source": [
    "# 修改 idx 来观察输入特征 xy_sortby_y[:, idx] 的形态\n",
    "# idx: 5, 6, 12, 16, 20, 24 => 中心出现一额外点\n",
    "idx = 5\n",
    "plt.scatter(xy_sortby_y[:, idx], xy_sortby_y[:, -1])\n",
    "plt.show()"
   ]
  },
  {
   "cell_type": "code",
   "execution_count": 16,
   "metadata": {},
   "outputs": [
    {
     "name": "stderr",
     "output_type": "stream",
     "text": [
      "D:\\Anaconda3\\lib\\site-packages\\sklearn\\cross_validation.py:44: DeprecationWarning: This module was deprecated in version 0.18 in favor of the model_selection module into which all the refactored classes and functions are moved. Also note that the interface of the new CV iterators are different from that of this module. This module will be removed in 0.20.\n",
      "  \"This module will be removed in 0.20.\", DeprecationWarning)\n"
     ]
    },
    {
     "data": {
      "image/png": "[encoded data removed]",
      "text/plain": [
       "<matplotlib.figure.Figure at 0x10cb45f8>"
      ]
     },
     "metadata": {},
     "output_type": "display_data"
    }
   ],
   "source": [
    "# 5折交叉验证, 这里使用了变换后的 y\n",
    "from sklearn.cross_validation import train_test_split\n",
    "x_now, y_now = xy_sortby_y[:, :-1], xy_sortby_y[:, -1]\n",
    "x_train, x_test, y_train, y_test = train_test_split(x_now, y_now, random_state=33, test_size=0.2)\n",
    "plt.scatter(np.linspace(-0.5, 0.5, 400), sorted(y_train))\n",
    "plt.show()"
   ]
  },
  {
   "cell_type": "code",
   "execution_count": 17,
   "metadata": {},
   "outputs": [
    {
     "name": "stdout",
     "output_type": "stream",
     "text": [
      "Linear Regression MSE Error:  0.0544382082017\n",
      "Linear Regression MAE Error:  0.180436656716\n",
      "0.0182092174638\n"
     ]
    }
   ],
   "source": [
    "# 线性回归\n",
    "from sklearn.linear_model import LinearRegression\n",
    "from sklearn.metrics import mean_squared_error, mean_absolute_error\n",
    "model_lr = LinearRegression()\n",
    "model_lr.fit(x_train, y_train)\n",
    "y_pred = model_lr.predict(x_test)\n",
    "yh_rebuild = rebuild(gy(y_pred), ymin, ymax)\n",
    "ytest_rebuild = rebuild(gy(y_test), ymin, ymax)\n",
    "mse_err = mean_squared_error(yh_rebuild, ytest_rebuild)\n",
    "print('Linear Regression MSE Error: ', mse_err)\n",
    "mae_err = mean_absolute_error(yh_rebuild, ytest_rebuild)\n",
    "print('Linear Regression MAE Error: ', mae_err)\n",
    "print(model_lr.score(x_test, y_test))"
   ]
  },
  {
   "cell_type": "code",
   "execution_count": 18,
   "metadata": {},
   "outputs": [
    {
     "name": "stdout",
     "output_type": "stream",
     "text": [
      "Support Vector Regression MSE Error:  0.0417444704502\n",
      "Support Vector Regression MAE Error:  0.15734942122\n",
      "0.173021980519\n"
     ]
    }
   ],
   "source": [
    "# 支持向量回归 高斯径向基核函数\n",
    "from sklearn.svm import SVR\n",
    "from sklearn.metrics import mean_squared_error, mean_absolute_error\n",
    "model_svr_rbf = SVR(kernel='rbf')\n",
    "model_svr_rbf.fit(x_train, y_train)\n",
    "y_pred = model_svr_rbf.predict(x_test)\n",
    "yh_rebuild = rebuild(gy(y_pred), ymin, ymax)\n",
    "ytest_rebuild = rebuild(gy(y_test), ymin, ymax)\n",
    "mse_err = mean_squared_error(yh_rebuild, ytest_rebuild)\n",
    "print('Support Vector Regression MSE Error: ', mse_err)\n",
    "mae_err = mean_absolute_error(yh_rebuild, ytest_rebuild)\n",
    "print('Support Vector Regression MAE Error: ', mae_err)\n",
    "print(model_svr_rbf.score(x_test, y_test))"
   ]
  },
  {
   "cell_type": "code",
   "execution_count": 19,
   "metadata": {},
   "outputs": [
    {
     "name": "stdout",
     "output_type": "stream",
     "text": [
      "XGBoost Regression MSE Error:  0.0433773747035\n",
      "XGBoost Regression MAE Error:  0.165362583497\n",
      "0.15098883343\n"
     ]
    }
   ],
   "source": [
    "# XGBoost 回归\n",
    "from xgboost import XGBRegressor\n",
    "xgbr = XGBRegressor()\n",
    "xgbr.fit(x_train, y_train)\n",
    "y_pred = xgbr.predict(x_test)\n",
    "yh_rebuild = rebuild(gy(y_pred), ymin, ymax)\n",
    "ytest_rebuild = rebuild(gy(y_test), ymin, ymax)\n",
    "mse_err = mean_squared_error(yh_rebuild, ytest_rebuild)\n",
    "print('XGBoost Regression MSE Error: ', mse_err)\n",
    "mae_err = mean_absolute_error(yh_rebuild, ytest_rebuild)\n",
    "print('XGBoost Regression MAE Error: ', mae_err)\n",
    "print(xgbr.score(x_test, y_test))"
   ]
  },
  {
   "cell_type": "code",
   "execution_count": 20,
   "metadata": {},
   "outputs": [
    {
     "data": {
      "image/png": "[encoded data removed]",
      "text/plain": [
       "<matplotlib.figure.Figure at 0x10e29fd0>"
      ]
     },
     "metadata": {},
     "output_type": "display_data"
    }
   ],
   "source": [
    "# 不再使用变换后的 y\n",
    "from sklearn.cross_validation import train_test_split\n",
    "x_now, y_now = xy_sortby_y[:, :-1], y_scl\n",
    "x_train, x_test, y_train, y_test = train_test_split(x_now, y_now, random_state=33, test_size=0.2)\n",
    "plt.scatter(np.linspace(-0.5, 0.5, 400), sorted(y_train))\n",
    "plt.show()"
   ]
  },
  {
   "cell_type": "code",
   "execution_count": 21,
   "metadata": {},
   "outputs": [
    {
     "name": "stdout",
     "output_type": "stream",
     "text": [
      "Linear Regression MSE Error:  0.0455571079232\n",
      "Linear Regression MAE Error:  0.174820732804\n",
      "0.0794028670981\n"
     ]
    }
   ],
   "source": [
    "# 线性回归 #2\n",
    "from sklearn.linear_model import LinearRegression\n",
    "from sklearn.metrics import mean_squared_error, mean_absolute_error\n",
    "model_lr = LinearRegression()\n",
    "model_lr.fit(x_train, y_train)\n",
    "y_pred = model_lr.predict(x_test)\n",
    "yh_rebuild = rebuild((y_pred), ymin, ymax)\n",
    "ytest_rebuild = rebuild((y_test), ymin, ymax)\n",
    "mse_err = mean_squared_error(yh_rebuild, ytest_rebuild)\n",
    "print('Linear Regression MSE Error: ', mse_err)\n",
    "mae_err = mean_absolute_error(yh_rebuild, ytest_rebuild)\n",
    "print('Linear Regression MAE Error: ', mae_err)\n",
    "print(model_lr.score(x_test, y_test))"
   ]
  },
  {
   "cell_type": "code",
   "execution_count": 22,
   "metadata": {},
   "outputs": [
    {
     "name": "stdout",
     "output_type": "stream",
     "text": [
      "Support Vector Regression MSE Error:  0.0430075390237\n",
      "Support Vector Regression MAE Error:  0.158417655228\n",
      "0.130923385542\n"
     ]
    }
   ],
   "source": [
    "# 支持向量回归 高斯径向基核函数 #2\n",
    "from sklearn.svm import SVR\n",
    "from sklearn.metrics import mean_squared_error, mean_absolute_error\n",
    "model_svr_rbf = SVR(kernel='rbf')\n",
    "model_svr_rbf.fit(x_train, y_train)\n",
    "y_pred = model_svr_rbf.predict(x_test)\n",
    "yh_rebuild = rebuild((y_pred), ymin, ymax)\n",
    "ytest_rebuild = rebuild((y_test), ymin, ymax)\n",
    "mse_err = mean_squared_error(yh_rebuild, ytest_rebuild)\n",
    "print('Support Vector Regression MSE Error: ', mse_err)\n",
    "mae_err = mean_absolute_error(yh_rebuild, ytest_rebuild)\n",
    "print('Support Vector Regression MAE Error: ', mae_err)\n",
    "print(model_svr_rbf.score(x_test, y_test))"
   ]
  },
  {
   "cell_type": "code",
   "execution_count": 23,
   "metadata": {},
   "outputs": [
    {
     "name": "stdout",
     "output_type": "stream",
     "text": [
      "XGBoost Regression MSE Error:  0.0435935340927\n",
      "XGBoost Regression MAE Error:  0.162636702775\n",
      "0.119081803705\n"
     ]
    }
   ],
   "source": [
    "# XGBoost 回归 #2\n",
    "from xgboost import XGBRegressor\n",
    "xgbr = XGBRegressor()\n",
    "xgbr.fit(x_train, y_train)\n",
    "y_pred = xgbr.predict(x_test)\n",
    "yh_rebuild = rebuild((y_pred), ymin, ymax)\n",
    "ytest_rebuild = rebuild((y_test), ymin, ymax)\n",
    "mse_err = mean_squared_error(yh_rebuild, ytest_rebuild)\n",
    "print('XGBoost Regression MSE Error: ', mse_err)\n",
    "mae_err = mean_absolute_error(yh_rebuild, ytest_rebuild)\n",
    "print('XGBoost Regression MAE Error: ', mae_err)\n",
    "print(xgbr.score(x_test, y_test))"
   ]
  },
  {
   "cell_type": "code",
   "execution_count": 24,
   "metadata": {},
   "outputs": [
    {
     "data": {
      "image/png": "[encoded data removed]",
      "text/plain": [
       "<matplotlib.figure.Figure at 0x10c79438>"
      ]
     },
     "metadata": {},
     "output_type": "display_data"
    },
    {
     "name": "stdout",
     "output_type": "stream",
     "text": [
      "LASSO Regression MSE Error:  0.0513094061752\n",
      "LASSO Regression MAE Error:  0.181960130591\n",
      "-0.0337514121845\n",
      "Ridge Regression MSE Error:  1.12514092601\n",
      "Ridge Regression MAE Error:  0.339075474218\n",
      "-0.330518045072\n"
     ]
    }
   ],
   "source": [
    "# 特装提升 增加 2 次多项式特征\n",
    "from sklearn.preprocessing import PolynomialFeatures\n",
    "poly2 = PolynomialFeatures(degree=2)\n",
    "x_now, y_now = xy_sortby_y[:, :-1], xy_sortby_y[:, -1]\n",
    "x_now_poly2 = poly2.fit_transform(x_now)\n",
    "x_train_poly2, x_test, y_train_poly2, y_test = train_test_split(x_now_poly2, y_now, random_state=33, test_size=0.2)\n",
    "plt.scatter(np.linspace(-0.5, 0.5, 400), sorted(y_train_poly2))\n",
    "plt.show()\n",
    "\n",
    "# LASSO\n",
    "from sklearn.linear_model import Lasso\n",
    "lasso_poly2 = Lasso()\n",
    "lasso_poly2.fit(x_train_poly2, y_train_poly2)\n",
    "y_pred = lasso_poly2.predict(x_test)\n",
    "yh_rebuild = rebuild(gy(y_pred), ymin, ymax)\n",
    "ytest_rebuild = rebuild(gy(y_test), ymin, ymax)\n",
    "mse_err = mean_squared_error(yh_rebuild, ytest_rebuild)\n",
    "print('LASSO Regression MSE Error: ', mse_err)\n",
    "mae_err = mean_absolute_error(yh_rebuild, ytest_rebuild)\n",
    "print('LASSO Regression MAE Error: ', mae_err)\n",
    "print(lasso_poly2.score(x_test, y_test))\n",
    "\n",
    "# Ridge\n",
    "from sklearn.linear_model import Ridge\n",
    "ridge_poly2 = Ridge()\n",
    "ridge_poly2.fit(x_train_poly2, y_train_poly2)\n",
    "y_pred = ridge_poly2.predict(x_test)\n",
    "yh_rebuild = rebuild(gy(y_pred), ymin, ymax)\n",
    "ytest_rebuild = rebuild(gy(y_test), ymin, ymax)\n",
    "mse_err = mean_squared_error(yh_rebuild, ytest_rebuild)\n",
    "print('Ridge Regression MSE Error: ', mse_err)\n",
    "mae_err = mean_absolute_error(yh_rebuild, ytest_rebuild)\n",
    "print('Ridge Regression MAE Error: ', mae_err)\n",
    "print(ridge_poly2.score(x_test, y_test))"
   ]
  },
  {
   "cell_type": "code",
   "execution_count": 25,
   "metadata": {
    "collapsed": true
   },
   "outputs": [],
   "source": [
    "x_now, y_now = xy_sortby_y[:, :-1], xy_sortby_y[:, -1]"
   ]
  },
  {
   "cell_type": "code",
   "execution_count": 26,
   "metadata": {
    "collapsed": true
   },
   "outputs": [],
   "source": [
    "# Summary 最终流程\n",
    "# 保留列\n",
    "remain_header = list(remain_column2)\n",
    "save_pickle('remain_header.bin', remain_header)\n",
    "# 模型本体\n",
    "save_pickle('svr_rbf.model.bin', model_svr_rbf)\n",
    "# 反演函数\n",
    "def gy(u): # g: u -> y\n",
    "    a = 0.172020013840487\n",
    "    b = 2.355955139758581\n",
    "    c = 0.028332501141596\n",
    "    d = 0.450477070771684\n",
    "    return a * np.tan(b * u + c) + d\n",
    "ys = [ymin, ymax]\n",
    "save_pickle('ys.bin', ys)"
   ]
  }
 ],
 "metadata": {
  "kernelspec": {
   "display_name": "Python 3",
   "language": "python",
   "name": "python3"
  },
  "language_info": {
   "codemirror_mode": {
    "name": "ipython",
    "version": 3
   },
   "file_extension": ".py",
   "mimetype": "text/x-python",
   "name": "python",
   "nbconvert_exporter": "python",
   "pygments_lexer": "ipython3",
   "version": "3.6.2"
  }
 },
 "nbformat": 4,
 "nbformat_minor": 2
}
