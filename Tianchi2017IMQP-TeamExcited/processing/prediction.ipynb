{
 "cells": [
  {
   "cell_type": "code",
   "execution_count": 1,
   "metadata": {
    "collapsed": true
   },
   "outputs": [],
   "source": [
    "import pandas as pd\n",
    "import numpy as np\n",
    "\n",
    "import sys\n",
    "sys.path.append('../')\n",
    "from utils.pickle_helper import *\n",
    "from utils.csv_helper import *\n",
    "from utils.onehot_helper import *"
   ]
  },
  {
   "cell_type": "code",
   "execution_count": 2,
   "metadata": {
    "collapsed": true,
    "scrolled": true
   },
   "outputs": [],
   "source": [
    "# one-hot 编码\n",
    "# onehot('test_a.bin', 'test_a')\n",
    "# onehot('test_b.bin', 'test_b')"
   ]
  },
  {
   "cell_type": "code",
   "execution_count": 3,
   "metadata": {},
   "outputs": [
    {
     "name": "stderr",
     "output_type": "stream",
     "text": [
      "D:\\Anaconda3\\lib\\site-packages\\sklearn\\cross_validation.py:44: DeprecationWarning: This module was deprecated in version 0.18 in favor of the model_selection module into which all the refactored classes and functions are moved. Also note that the interface of the new CV iterators are different from that of this module. This module will be removed in 0.20.\n",
      "  \"This module will be removed in 0.20.\", DeprecationWarning)\n"
     ]
    },
    {
     "name": "stdout",
     "output_type": "stream",
     "text": [
      "<class 'pandas.core.frame.DataFrame'>\n",
      "Index: 120 entries, ID856 to ID995\n",
      "Columns: 8076 entries, TOOL_ID_0 to 750X1452\n",
      "dtypes: float64(6034), int64(1980), object(62)\n",
      "memory usage: 7.4+ MB\n"
     ]
    }
   ],
   "source": [
    "#t load dataframe, models\n",
    "pddf = read_pickle('test_b.dataframe.bin')\n",
    "model_svr_rbf = read_pickle('svr_rbf.model.bin')\n",
    "model_xgbr = read_pickle('xgbr.model.bin')\n",
    "model_xgbr_gs = read_pickle('xgbr2.model.bin')\n",
    "remain_header = read_pickle('remain_header.bin')\n",
    "est = read_pickle('pca.bin')\n",
    "ymin, ymax = read_pickle('ys.bin')\n",
    "pddf.info()"
   ]
  },
  {
   "cell_type": "code",
   "execution_count": 4,
   "metadata": {},
   "outputs": [
    {
     "name": "stdout",
     "output_type": "stream",
     "text": [
      "['ID856', 'ID857', 'ID858', 'ID859', 'ID860', 'ID861', 'ID862', 'ID863', 'ID864', 'ID865', 'ID867', 'ID869', 'ID870', 'ID871', 'ID872', 'ID873', 'ID874', 'ID875', 'ID876', 'ID877', 'ID878', 'ID879', 'ID880', 'ID881', 'ID882', 'ID883', 'ID884', 'ID885', 'ID886', 'ID887', 'ID888', 'ID889', 'ID890', 'ID891', 'ID892', 'ID893', 'ID894', 'ID895', 'ID896', 'ID897', 'ID900', 'ID901', 'ID902', 'ID903', 'ID904', 'ID905', 'ID906', 'ID907', 'ID908', 'ID909', 'ID910', 'ID911', 'ID912', 'ID915', 'ID916', 'ID917', 'ID918', 'ID919', 'ID920', 'ID923', 'ID924', 'ID925', 'ID926', 'ID927', 'ID928', 'ID929', 'ID930', 'ID932', 'ID934', 'ID936', 'ID938', 'ID939', 'ID940', 'ID941', 'ID942', 'ID943', 'ID944', 'ID945', 'ID946', 'ID947', 'ID948', 'ID949', 'ID950', 'ID951', 'ID952', 'ID953', 'ID954', 'ID955', 'ID956', 'ID957', 'ID958', 'ID959', 'ID960', 'ID961', 'ID962', 'ID963', 'ID964', 'ID965', 'ID966', 'ID967', 'ID968', 'ID969', 'ID970', 'ID972', 'ID973', 'ID975', 'ID977', 'ID978', 'ID979', 'ID982', 'ID984', 'ID986', 'ID988', 'ID989', 'ID990', 'ID991', 'ID992', 'ID993', 'ID994', 'ID995']\n"
     ]
    }
   ],
   "source": [
    "# sample index\n",
    "header = list(pddf.index)\n",
    "print(header)"
   ]
  },
  {
   "cell_type": "code",
   "execution_count": 5,
   "metadata": {},
   "outputs": [
    {
     "data": {
      "text/plain": [
       "(120, 185)"
      ]
     },
     "execution_count": 5,
     "metadata": {},
     "output_type": "execute_result"
    }
   ],
   "source": [
    "x = np.array(pddf[remain_header])\n",
    "np.shape(x)"
   ]
  },
  {
   "cell_type": "code",
   "execution_count": 6,
   "metadata": {},
   "outputs": [
    {
     "data": {
      "text/plain": [
       "(120, 185)"
      ]
     },
     "execution_count": 6,
     "metadata": {},
     "output_type": "execute_result"
    }
   ],
   "source": [
    "# 缺失值填充: median 表示中位数, mean 表示平均数\n",
    "from sklearn.preprocessing import Imputer\n",
    "# imp = Imputer(missing_values='NaN', strategy='mean', axis=0)\n",
    "imp = Imputer(missing_values='NaN', strategy='median', axis=0)\n",
    "x_imp = imp.fit_transform(x)\n",
    "# x_iimp = imp.inverse_transform(x_imp)\n",
    "np.shape(x_imp)"
   ]
  },
  {
   "cell_type": "code",
   "execution_count": 7,
   "metadata": {},
   "outputs": [
    {
     "data": {
      "text/plain": [
       "(120, 185)"
      ]
     },
     "execution_count": 7,
     "metadata": {},
     "output_type": "execute_result"
    }
   ],
   "source": [
    "# 数据标准化: 最大最小值\n",
    "from sklearn.preprocessing import MinMaxScaler\n",
    "scaler = MinMaxScaler()\n",
    "x_scl = scaler.fit_transform(x_imp)\n",
    "np.shape(x_scl)"
   ]
  },
  {
   "cell_type": "code",
   "execution_count": 8,
   "metadata": {},
   "outputs": [
    {
     "data": {
      "text/plain": [
       "(120, 37)"
      ]
     },
     "execution_count": 8,
     "metadata": {},
     "output_type": "execute_result"
    }
   ],
   "source": [
    "x_pca = est.transform(x_scl)\n",
    "np.shape(x_pca)"
   ]
  },
  {
   "cell_type": "code",
   "execution_count": 9,
   "metadata": {
    "collapsed": true
   },
   "outputs": [],
   "source": [
    "def gy(u): # g: u -> y\n",
    "    return u\n",
    "#     a = 0.172020013840487\n",
    "#     b = 2.355955139758581\n",
    "#     c = 0.028332501141596\n",
    "#     d = 0.450477070771684\n",
    "#     return a * np.tan(b * u + c) + d\n",
    "\n",
    "def rebuild(a, amax, amin):\n",
    "    return a * (amax - amin) + amin;"
   ]
  },
  {
   "cell_type": "code",
   "execution_count": 10,
   "metadata": {},
   "outputs": [
    {
     "data": {
      "text/plain": [
       "(120,)"
      ]
     },
     "execution_count": 10,
     "metadata": {},
     "output_type": "execute_result"
    }
   ],
   "source": [
    "# svm\n",
    "y_pred = model_svr_rbf.predict(x_pca)\n",
    "yh_pred = gy(y_pred)\n",
    "yh_rebuild = rebuild(yh_pred, ymin, ymax)\n",
    "np.shape(yh_rebuild)"
   ]
  },
  {
   "cell_type": "code",
   "execution_count": 11,
   "metadata": {
    "collapsed": true
   },
   "outputs": [],
   "source": [
    "# # xgbr\n",
    "# y_pred2 = model_xgbr.predict(x_pca)\n",
    "# yh_pred2 = gy(y_pred2)\n",
    "# yh_rebuild2 = rebuild(yh_pred2, ymin, ymax)\n",
    "# np.shape(yh_rebuild2)"
   ]
  },
  {
   "cell_type": "code",
   "execution_count": 12,
   "metadata": {},
   "outputs": [
    {
     "data": {
      "text/plain": [
       "(120,)"
      ]
     },
     "execution_count": 12,
     "metadata": {},
     "output_type": "execute_result"
    }
   ],
   "source": [
    "# xgbr2\n",
    "y_pred3 = model_xgbr_gs.predict(x_pca)\n",
    "yh_pred3 = gy(y_pred3)\n",
    "yh_rebuild3 = rebuild(yh_pred3, ymin, ymax)\n",
    "np.shape(yh_rebuild3)"
   ]
  },
  {
   "cell_type": "code",
   "execution_count": 13,
   "metadata": {},
   "outputs": [
    {
     "name": "stdout",
     "output_type": "stream",
     "text": [
      "2.9068890\t2.9091613\t0.0022724\t0.0000052\n",
      "2.8255882\t2.8401799\t0.0145918\t0.0002129\n",
      "3.0977801\t3.0176992\t0.0800808\t0.0064129\n",
      "3.0071630\t3.0579312\t0.0507682\t0.0025774\n",
      "2.9345317\t2.9324756\t0.0020562\t0.0000042\n",
      "2.7724810\t2.9001284\t0.1276474\t0.0162939\n",
      "3.0070155\t2.9164445\t0.0905710\t0.0082031\n",
      "3.1088611\t3.0077825\t0.1010787\t0.0102169\n",
      "2.9120758\t2.9948232\t0.0827474\t0.0068471\n",
      "2.8808944\t2.9259343\t0.0450399\t0.0020286\n",
      "2.7846000\t2.8492050\t0.0646050\t0.0041738\n",
      "2.8764780\t2.8514667\t0.0250114\t0.0006256\n",
      "2.8339382\t2.8828621\t0.0489239\t0.0023935\n",
      "2.8760236\t2.9734232\t0.0973997\t0.0094867\n",
      "2.9971551\t2.9305058\t0.0666493\t0.0044421\n",
      "2.8352511\t2.9177523\t0.0825012\t0.0068064\n",
      "3.1293501\t3.0292013\t0.1001488\t0.0100298\n",
      "3.1555112\t3.0391152\t0.1163960\t0.0135480\n",
      "2.9957402\t2.9418375\t0.0539026\t0.0029055\n",
      "3.1019002\t3.0264542\t0.0754460\t0.0056921\n",
      "2.9601624\t2.9790828\t0.0189204\t0.0003580\n",
      "2.9168658\t2.8285146\t0.0883512\t0.0078059\n",
      "2.9718216\t2.9370239\t0.0347978\t0.0012109\n",
      "3.0331661\t2.9302099\t0.1029562\t0.0106000\n",
      "3.1528221\t2.9755182\t0.1773039\t0.0314367\n",
      "3.0748547\t3.0418227\t0.0330320\t0.0010911\n",
      "2.9918419\t2.9648399\t0.0270020\t0.0007291\n",
      "2.9951486\t2.9567692\t0.0383794\t0.0014730\n",
      "3.1165062\t2.9188337\t0.1976725\t0.0390744\n",
      "3.0096464\t3.0174692\t0.0078228\t0.0000612\n",
      "3.0749996\t3.0346422\t0.0403574\t0.0016287\n",
      "3.0261112\t3.0194216\t0.0066896\t0.0000448\n",
      "3.1262627\t3.0448072\t0.0814555\t0.0066350\n",
      "3.0090734\t2.9257779\t0.0832955\t0.0069381\n",
      "3.0730004\t2.9925299\t0.0804706\t0.0064755\n",
      "2.8891739\t2.8405113\t0.0486626\t0.0023680\n",
      "2.9140905\t2.8683972\t0.0456933\t0.0020879\n",
      "2.9820764\t2.9890127\t0.0069363\t0.0000481\n",
      "3.0610217\t2.9210403\t0.1399814\t0.0195948\n",
      "2.9230405\t2.9263921\t0.0033516\t0.0000112\n",
      "3.1843469\t3.0324829\t0.1518641\t0.0230627\n",
      "3.0743210\t2.8697248\t0.2045963\t0.0418596\n",
      "2.9900464\t3.0171845\t0.0271381\t0.0007365\n",
      "2.9261408\t2.9297304\t0.0035896\t0.0000129\n",
      "3.0360294\t3.0271306\t0.0088988\t0.0000792\n",
      "2.8425900\t2.8316672\t0.0109229\t0.0001193\n",
      "3.0093692\t2.9504547\t0.0589145\t0.0034709\n",
      "3.0771123\t2.9571865\t0.1199258\t0.0143822\n",
      "3.0906338\t3.0266478\t0.0639860\t0.0040942\n",
      "2.9810239\t2.9767365\t0.0042874\t0.0000184\n",
      "3.0686457\t3.0561373\t0.0125083\t0.0001565\n",
      "2.9461777\t3.0096662\t0.0634885\t0.0040308\n",
      "3.0156653\t2.9106591\t0.1050062\t0.0110263\n",
      "3.0990509\t3.0074992\t0.0915517\t0.0083817\n",
      "3.1251857\t2.9386616\t0.1865241\t0.0347912\n",
      "3.0578348\t3.0036325\t0.0542023\t0.0029379\n",
      "2.9612473\t2.9725435\t0.0112962\t0.0001276\n",
      "2.7672570\t2.9119709\t0.1447138\t0.0209421\n",
      "2.9292881\t2.8605888\t0.0686993\t0.0047196\n",
      "2.9208566\t2.9580882\t0.0372316\t0.0013862\n",
      "2.8239474\t2.8671193\t0.0431720\t0.0018638\n",
      "2.7982484\t2.8121521\t0.0139037\t0.0001933\n",
      "2.8749149\t2.8267374\t0.0481775\t0.0023211\n",
      "3.0497471\t2.8913927\t0.1583544\t0.0250761\n",
      "3.0704716\t2.9403696\t0.1301020\t0.0169265\n",
      "3.0074008\t2.9198577\t0.0875430\t0.0076638\n",
      "2.9875424\t2.9296865\t0.0578558\t0.0033473\n",
      "2.7536194\t2.8649602\t0.1113408\t0.0123968\n",
      "2.9953231\t2.8630362\t0.1322869\t0.0174998\n",
      "2.8149460\t2.8820872\t0.0671412\t0.0045079\n",
      "3.0800281\t2.9567485\t0.1232796\t0.0151979\n",
      "2.8983443\t2.8745234\t0.0238209\t0.0005674\n",
      "2.9532419\t2.9892488\t0.0360068\t0.0012965\n",
      "2.8511824\t2.7971716\t0.0540108\t0.0029172\n",
      "2.9325550\t2.8800666\t0.0524883\t0.0027550\n",
      "3.1392667\t3.0204058\t0.1188610\t0.0141279\n",
      "2.9873786\t2.9134603\t0.0739184\t0.0054639\n",
      "3.0563244\t3.0385945\t0.0177299\t0.0003143\n",
      "3.0701946\t2.9861531\t0.0840414\t0.0070630\n",
      "3.0616364\t2.9531567\t0.1084797\t0.0117679\n",
      "3.0762526\t2.9971795\t0.0790731\t0.0062526\n",
      "2.9328410\t2.9323716\t0.0004693\t0.0000002\n",
      "2.9889493\t2.9907012\t0.0017519\t0.0000031\n",
      "3.0130049\t3.0493009\t0.0362960\t0.0013174\n",
      "3.0109501\t2.9873996\t0.0235505\t0.0005546\n",
      "2.8033688\t2.8824854\t0.0791166\t0.0062594\n",
      "2.9838882\t3.0188434\t0.0349552\t0.0012219\n",
      "2.9172619\t2.9118025\t0.0054594\t0.0000298\n",
      "2.8682472\t3.0164692\t0.1482221\t0.0219698\n",
      "3.0427601\t2.8496592\t0.1931009\t0.0372879\n",
      "2.9402618\t2.9553270\t0.0150652\t0.0002270\n",
      "3.0697701\t2.9985232\t0.0712469\t0.0050761\n",
      "2.8675144\t2.8170457\t0.0504687\t0.0025471\n",
      "2.9895016\t2.9731960\t0.0163056\t0.0002659\n",
      "2.9518119\t2.8972280\t0.0545839\t0.0029794\n",
      "2.8580891\t2.8389349\t0.0191542\t0.0003669\n",
      "2.8175287\t2.8333359\t0.0158072\t0.0002499\n",
      "2.9914641\t2.9041479\t0.0873163\t0.0076241\n",
      "2.8530213\t2.9058709\t0.0528496\t0.0027931\n",
      "3.0374665\t2.8867626\t0.1507039\t0.0227117\n",
      "2.8538498\t2.8103023\t0.0435476\t0.0018964\n",
      "3.0567070\t2.9146461\t0.1420609\t0.0201813\n",
      "3.1110023\t2.9906847\t0.1203175\t0.0144763\n",
      "3.1116800\t2.9940350\t0.1176450\t0.0138403\n",
      "2.9975252\t2.9091318\t0.0883935\t0.0078134\n",
      "3.1478500\t2.9797819\t0.1680681\t0.0282469\n",
      "3.1118886\t3.0027099\t0.1091787\t0.0119200\n",
      "2.9397896\t2.9363627\t0.0034268\t0.0000117\n",
      "2.8674157\t2.8594098\t0.0080059\t0.0000641\n",
      "2.8183662\t2.8076997\t0.0106665\t0.0001138\n",
      "2.8284447\t2.7676446\t0.0608001\t0.0036967\n",
      "3.0108825\t2.8912425\t0.1196400\t0.0143137\n",
      "3.2160904\t2.9967406\t0.2193498\t0.0481143\n",
      "3.0809046\t2.9591539\t0.1217507\t0.0148232\n",
      "3.0660044\t2.8616021\t0.2044023\t0.0417803\n",
      "3.1368674\t2.9293034\t0.2075640\t0.0430828\n",
      "3.1174039\t3.0541534\t0.0632504\t0.0040006\n",
      "2.9944177\t2.9634902\t0.0309274\t0.0009565\n",
      "2.9521240\t2.9495234\t0.0026005\t0.0000068\n",
      "3.1157612\t3.0105572\t0.1052041\t0.0110679\n",
      "MAE = 0.072043\n",
      "MSE = 0.008186\n"
     ]
    }
   ],
   "source": [
    "mse, mae = 0, 0\n",
    "yh_rebuild2 = yh_rebuild3;\n",
    "for i in range(120):\n",
    "    a = yh_rebuild[i]\n",
    "    b = yh_rebuild3[i]\n",
    "    yh_rebuild2[i] = (a + b) * 0.5\n",
    "    err = np.abs(a - b)\n",
    "    err2 = err * err\n",
    "    mae += err\n",
    "    mse += err2\n",
    "    print('%.7f\\t%.7f\\t%.7f\\t%.7f' % (a, b, err, err2))\n",
    "print('MAE = %f\\nMSE = %f' % (mae / 120.0, mse / 120.0))"
   ]
  },
  {
   "cell_type": "code",
   "execution_count": 14,
   "metadata": {
    "collapsed": true
   },
   "outputs": [],
   "source": [
    "# mse, mae = 0, 0\n",
    "# for i in range(100):\n",
    "#     a = pddf['Y'][i]\n",
    "#     b = yh_rebuild3[i]\n",
    "#     err = np.abs(a - b)\n",
    "#     err2 = err * err\n",
    "#     mae += err\n",
    "#     mse += err2\n",
    "#     print('%.7f\\t%.7f\\t%.7f\\t%.7f' % (a, b, err, err2))\n",
    "# print('MAE = %f\\nMSE = %f' % (mae / 120.0, mse / 120.0))"
   ]
  },
  {
   "cell_type": "code",
   "execution_count": 15,
   "metadata": {
    "collapsed": true
   },
   "outputs": [],
   "source": [
    "data = []\n",
    "# for i in range(100):\n",
    "#     data.append([header[i], (yh_rebuild[i] + yh_rebuild2[i]) / 2.0])\n",
    "# write_csv('ans_test_a_svr_rbf_xgbr.csv', data)\n",
    "for i in range(100):\n",
    "    data.append([header[i], (yh_rebuild2[i])])\n",
    "write_csv('ans_test_b_xgbr_gs.csv', data)"
   ]
  }
 ],
 "metadata": {
  "kernelspec": {
   "display_name": "Python 3",
   "language": "python",
   "name": "python3"
  },
  "language_info": {
   "codemirror_mode": {
    "name": "ipython",
    "version": 3
   },
   "file_extension": ".py",
   "mimetype": "text/x-python",
   "name": "python",
   "nbconvert_exporter": "python",
   "pygments_lexer": "ipython3",
   "version": "3.6.2"
  }
 },
 "nbformat": 4,
 "nbformat_minor": 2
}
