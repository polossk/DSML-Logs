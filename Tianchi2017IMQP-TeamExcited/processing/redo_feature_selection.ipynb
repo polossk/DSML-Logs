{
 "cells": [
  {
   "cell_type": "code",
   "execution_count": 1,
   "metadata": {
    "collapsed": true
   },
   "outputs": [],
   "source": [
    "import numpy as np\n",
    "import pandas as pd\n",
    "import matplotlib.pyplot as plt\n",
    "\n",
    "import sys\n",
    "sys.path.append('../')\n",
    "from utils.pickle_helper import *\n",
    "from utils.csv_helper import *\n",
    "from utils.onehot_helper import *"
   ]
  },
  {
   "cell_type": "code",
   "execution_count": 2,
   "metadata": {},
   "outputs": [
    {
     "name": "stdout",
     "output_type": "stream",
     "text": [
      "<class 'pandas.core.frame.DataFrame'>\n",
      "Index: 500 entries, ID001 to ID715\n",
      "Columns: 8077 entries, TOOL_ID_0 to Y\n",
      "dtypes: float64(6217), int64(1798), object(62)\n",
      "memory usage: 30.8+ MB\n"
     ]
    }
   ],
   "source": [
    "pddf = read_pickle('raw_data.dataframe.bin')\n",
    "pddf.info()"
   ]
  },
  {
   "cell_type": "code",
   "execution_count": 3,
   "metadata": {
    "scrolled": true
   },
   "outputs": [
    {
     "name": "stdout",
     "output_type": "stream",
     "text": [
      "(500, 8076)\n",
      "(500,)\n",
      "<class 'pandas.core.frame.DataFrame'>\n",
      "Index: 100 entries, ID716 to ID855\n",
      "Columns: 8077 entries, TOOL_ID_0 to Y\n",
      "dtypes: float64(6336), int64(1679), object(62)\n",
      "memory usage: 6.2+ MB\n"
     ]
    }
   ],
   "source": [
    "# test_A data\n",
    "pddf_a = read_pickle('test_a.dataframe.bin')\n",
    "x = pddf.drop(['Y'], axis=1)\n",
    "y = pddf['Y']\n",
    "print(x.shape)\n",
    "print(y.shape)\n",
    "pddf_a.info()"
   ]
  },
  {
   "cell_type": "code",
   "execution_count": 4,
   "metadata": {},
   "outputs": [
    {
     "name": "stdout",
     "output_type": "stream",
     "text": [
      "<class 'pandas.core.frame.DataFrame'>\n",
      "Index: 600 entries, ID001 to ID855\n",
      "Columns: 8077 entries, TOOL_ID_0 to Y\n",
      "dtypes: float64(6422), int64(1593), object(62)\n",
      "memory usage: 37.0+ MB\n"
     ]
    }
   ],
   "source": [
    "pddf = pddf.append(pddf_a)\n",
    "pddf.info()"
   ]
  },
  {
   "cell_type": "code",
   "execution_count": 5,
   "metadata": {
    "collapsed": true
   },
   "outputs": [],
   "source": [
    "# 计算各列的空缺值\n",
    "def count_empty(dframe: pd.DataFrame) -> pd.DataFrame:\n",
    "    df_cnt = dframe.isnull().sum(axis=0).reset_index()\n",
    "    df_cnt.columns = ['col', 'count']\n",
    "    df_cnt = df_cnt.sort_values(by='count', ascending=False)\n",
    "    return df_cnt\n",
    "\n",
    "# 传入 judger (Int -> Bool), 获取列名\n",
    "# def select_empty_columns(df_cnt: pd.DataFrame, judger):\n",
    "#     ret = []\n",
    "#     for it_ in df_cnt.iterrows():\n",
    "#         it = it_[1]\n",
    "#         if judger(it['count']): ret.append(it['col'])\n",
    "#     return ret"
   ]
  },
  {
   "cell_type": "code",
   "execution_count": 6,
   "metadata": {},
   "outputs": [
    {
     "name": "stdout",
     "output_type": "stream",
     "text": [
      "total selected: 7878\n",
      "<class 'pandas.core.frame.DataFrame'>\n",
      "Index: 600 entries, ID001 to ID855\n",
      "Columns: 7878 entries, 300X4 to Y\n",
      "dtypes: float64(6285), int64(1593)\n",
      "memory usage: 36.1+ MB\n"
     ]
    }
   ],
   "source": [
    "# 计算各列的空缺值, 将所有列均空缺, 且空缺值大于 200 的列直接删除\n",
    "df_cnt = count_empty(pddf)\n",
    "# empty_columns = select_empty_columns(df_cnt, lambda x: x>= 500)\n",
    "# greater_than_200 = select_empty_columns(df_cnt, lambda x: x>= 200)\n",
    "not_gt200_ = list(df_cnt[df_cnt['count']<=200].col.values)\n",
    "\n",
    "# print(len(empty_columns), empty_columns) # len = 62\n",
    "# print(len(greater_than_200), greater_than_200) # len = 199\n",
    "print('total selected:', len(not_gt200_)) # len = 199\n",
    "pddf_remain = pddf[not_gt200_]\n",
    "pddf_remain.info()"
   ]
  },
  {
   "cell_type": "code",
   "execution_count": 7,
   "metadata": {
    "scrolled": true
   },
   "outputs": [
    {
     "name": "stdout",
     "output_type": "stream",
     "text": [
      "<class 'pandas.core.frame.DataFrame'>\n",
      "Index: 600 entries, ID001 to ID855\n",
      "Columns: 6253 entries, 311X16 to Y\n",
      "dtypes: float64(6253)\n",
      "memory usage: 28.6+ MB\n"
     ]
    }
   ],
   "source": [
    "# 筛选各列的日期值\n",
    "def count_type(dframe: pd.DataFrame, typename):\n",
    "    hoge = dframe.dtypes.reset_index()\n",
    "    hoge.columns = ['col', 'type']\n",
    "    return hoge[hoge['type'] == typename].col.values\n",
    "    \n",
    "def select_date_type(dframe: pd.DataFrame, col_name):\n",
    "    ret = []\n",
    "    for col in col_name:\n",
    "        if dframe[col].min() > 1e13: ret.append(col)\n",
    "    return ret\n",
    "\n",
    "float64_col = list(count_type(pddf_remain, 'float64'))\n",
    "float64_date_col = select_date_type(pddf_remain, float64_col)\n",
    "remain_col = [_ for _ in float64_col if _ not in float64_date_col]\n",
    "pddf_remain = pddf_remain[remain_col]\n",
    "pddf_remain.info()"
   ]
  },
  {
   "cell_type": "code",
   "execution_count": 8,
   "metadata": {
    "scrolled": true
   },
   "outputs": [
    {
     "data": {
      "text/html": [
       "<div>\n",
       "<style>\n",
       "    .dataframe thead tr:only-child th {\n",
       "        text-align: right;\n",
       "    }\n",
       "\n",
       "    .dataframe thead th {\n",
       "        text-align: left;\n",
       "    }\n",
       "\n",
       "    .dataframe tbody tr th {\n",
       "        vertical-align: top;\n",
       "    }\n",
       "</style>\n",
       "<table border=\"1\" class=\"dataframe\">\n",
       "  <thead>\n",
       "    <tr style=\"text-align: right;\">\n",
       "      <th></th>\n",
       "      <th>col</th>\n",
       "      <th>count</th>\n",
       "    </tr>\n",
       "  </thead>\n",
       "  <tbody>\n",
       "    <tr>\n",
       "      <th>0</th>\n",
       "      <td>311X16</td>\n",
       "      <td>69</td>\n",
       "    </tr>\n",
       "    <tr>\n",
       "      <th>2</th>\n",
       "      <td>311X14</td>\n",
       "      <td>69</td>\n",
       "    </tr>\n",
       "    <tr>\n",
       "      <th>3</th>\n",
       "      <td>311X6</td>\n",
       "      <td>69</td>\n",
       "    </tr>\n",
       "    <tr>\n",
       "      <th>4</th>\n",
       "      <td>311X18</td>\n",
       "      <td>69</td>\n",
       "    </tr>\n",
       "    <tr>\n",
       "      <th>5</th>\n",
       "      <td>311X12</td>\n",
       "      <td>69</td>\n",
       "    </tr>\n",
       "    <tr>\n",
       "      <th>6</th>\n",
       "      <td>311X4</td>\n",
       "      <td>69</td>\n",
       "    </tr>\n",
       "    <tr>\n",
       "      <th>7</th>\n",
       "      <td>311X20</td>\n",
       "      <td>69</td>\n",
       "    </tr>\n",
       "    <tr>\n",
       "      <th>8</th>\n",
       "      <td>311X22</td>\n",
       "      <td>69</td>\n",
       "    </tr>\n",
       "    <tr>\n",
       "      <th>9</th>\n",
       "      <td>311X10</td>\n",
       "      <td>69</td>\n",
       "    </tr>\n",
       "    <tr>\n",
       "      <th>10</th>\n",
       "      <td>311X8</td>\n",
       "      <td>69</td>\n",
       "    </tr>\n",
       "    <tr>\n",
       "      <th>11</th>\n",
       "      <td>311X24</td>\n",
       "      <td>69</td>\n",
       "    </tr>\n",
       "    <tr>\n",
       "      <th>1</th>\n",
       "      <td>311X2</td>\n",
       "      <td>69</td>\n",
       "    </tr>\n",
       "    <tr>\n",
       "      <th>12</th>\n",
       "      <td>300X19</td>\n",
       "      <td>58</td>\n",
       "    </tr>\n",
       "    <tr>\n",
       "      <th>13</th>\n",
       "      <td>300X18</td>\n",
       "      <td>28</td>\n",
       "    </tr>\n",
       "    <tr>\n",
       "      <th>15</th>\n",
       "      <td>300X1</td>\n",
       "      <td>27</td>\n",
       "    </tr>\n",
       "    <tr>\n",
       "      <th>16</th>\n",
       "      <td>300X5</td>\n",
       "      <td>27</td>\n",
       "    </tr>\n",
       "    <tr>\n",
       "      <th>14</th>\n",
       "      <td>300X8</td>\n",
       "      <td>27</td>\n",
       "    </tr>\n",
       "    <tr>\n",
       "      <th>17</th>\n",
       "      <td>300X15</td>\n",
       "      <td>25</td>\n",
       "    </tr>\n",
       "    <tr>\n",
       "      <th>18</th>\n",
       "      <td>300X17</td>\n",
       "      <td>25</td>\n",
       "    </tr>\n",
       "    <tr>\n",
       "      <th>19</th>\n",
       "      <td>300X21</td>\n",
       "      <td>24</td>\n",
       "    </tr>\n",
       "    <tr>\n",
       "      <th>20</th>\n",
       "      <td>300X16</td>\n",
       "      <td>24</td>\n",
       "    </tr>\n",
       "    <tr>\n",
       "      <th>1123</th>\n",
       "      <td>750X1142</td>\n",
       "      <td>19</td>\n",
       "    </tr>\n",
       "    <tr>\n",
       "      <th>1133</th>\n",
       "      <td>750X1269</td>\n",
       "      <td>19</td>\n",
       "    </tr>\n",
       "    <tr>\n",
       "      <th>1132</th>\n",
       "      <td>750X1268</td>\n",
       "      <td>19</td>\n",
       "    </tr>\n",
       "    <tr>\n",
       "      <th>1131</th>\n",
       "      <td>750X1267</td>\n",
       "      <td>19</td>\n",
       "    </tr>\n",
       "    <tr>\n",
       "      <th>1130</th>\n",
       "      <td>750X1149</td>\n",
       "      <td>19</td>\n",
       "    </tr>\n",
       "    <tr>\n",
       "      <th>1129</th>\n",
       "      <td>750X1148</td>\n",
       "      <td>19</td>\n",
       "    </tr>\n",
       "    <tr>\n",
       "      <th>1128</th>\n",
       "      <td>750X1147</td>\n",
       "      <td>19</td>\n",
       "    </tr>\n",
       "    <tr>\n",
       "      <th>1127</th>\n",
       "      <td>750X1146</td>\n",
       "      <td>19</td>\n",
       "    </tr>\n",
       "    <tr>\n",
       "      <th>1126</th>\n",
       "      <td>750X1145</td>\n",
       "      <td>19</td>\n",
       "    </tr>\n",
       "    <tr>\n",
       "      <th>...</th>\n",
       "      <td>...</td>\n",
       "      <td>...</td>\n",
       "    </tr>\n",
       "    <tr>\n",
       "      <th>3764</th>\n",
       "      <td>360X1274</td>\n",
       "      <td>0</td>\n",
       "    </tr>\n",
       "    <tr>\n",
       "      <th>3762</th>\n",
       "      <td>360X1272</td>\n",
       "      <td>0</td>\n",
       "    </tr>\n",
       "    <tr>\n",
       "      <th>3735</th>\n",
       "      <td>360X981</td>\n",
       "      <td>0</td>\n",
       "    </tr>\n",
       "    <tr>\n",
       "      <th>3761</th>\n",
       "      <td>360X1271</td>\n",
       "      <td>0</td>\n",
       "    </tr>\n",
       "    <tr>\n",
       "      <th>3736</th>\n",
       "      <td>360X985</td>\n",
       "      <td>0</td>\n",
       "    </tr>\n",
       "    <tr>\n",
       "      <th>3737</th>\n",
       "      <td>360X986</td>\n",
       "      <td>0</td>\n",
       "    </tr>\n",
       "    <tr>\n",
       "      <th>3738</th>\n",
       "      <td>360X988</td>\n",
       "      <td>0</td>\n",
       "    </tr>\n",
       "    <tr>\n",
       "      <th>3739</th>\n",
       "      <td>360X999</td>\n",
       "      <td>0</td>\n",
       "    </tr>\n",
       "    <tr>\n",
       "      <th>3740</th>\n",
       "      <td>360X989</td>\n",
       "      <td>0</td>\n",
       "    </tr>\n",
       "    <tr>\n",
       "      <th>3741</th>\n",
       "      <td>360X990</td>\n",
       "      <td>0</td>\n",
       "    </tr>\n",
       "    <tr>\n",
       "      <th>3742</th>\n",
       "      <td>360X991</td>\n",
       "      <td>0</td>\n",
       "    </tr>\n",
       "    <tr>\n",
       "      <th>3743</th>\n",
       "      <td>360X992</td>\n",
       "      <td>0</td>\n",
       "    </tr>\n",
       "    <tr>\n",
       "      <th>3744</th>\n",
       "      <td>360X993</td>\n",
       "      <td>0</td>\n",
       "    </tr>\n",
       "    <tr>\n",
       "      <th>3745</th>\n",
       "      <td>360X994</td>\n",
       "      <td>0</td>\n",
       "    </tr>\n",
       "    <tr>\n",
       "      <th>3746</th>\n",
       "      <td>360X995</td>\n",
       "      <td>0</td>\n",
       "    </tr>\n",
       "    <tr>\n",
       "      <th>3747</th>\n",
       "      <td>360X996</td>\n",
       "      <td>0</td>\n",
       "    </tr>\n",
       "    <tr>\n",
       "      <th>3748</th>\n",
       "      <td>360X997</td>\n",
       "      <td>0</td>\n",
       "    </tr>\n",
       "    <tr>\n",
       "      <th>3749</th>\n",
       "      <td>360X998</td>\n",
       "      <td>0</td>\n",
       "    </tr>\n",
       "    <tr>\n",
       "      <th>3750</th>\n",
       "      <td>360X1130</td>\n",
       "      <td>0</td>\n",
       "    </tr>\n",
       "    <tr>\n",
       "      <th>3751</th>\n",
       "      <td>360X1132</td>\n",
       "      <td>0</td>\n",
       "    </tr>\n",
       "    <tr>\n",
       "      <th>3752</th>\n",
       "      <td>360X1339</td>\n",
       "      <td>0</td>\n",
       "    </tr>\n",
       "    <tr>\n",
       "      <th>3753</th>\n",
       "      <td>360X1133</td>\n",
       "      <td>0</td>\n",
       "    </tr>\n",
       "    <tr>\n",
       "      <th>3754</th>\n",
       "      <td>360X1264</td>\n",
       "      <td>0</td>\n",
       "    </tr>\n",
       "    <tr>\n",
       "      <th>3755</th>\n",
       "      <td>360X1265</td>\n",
       "      <td>0</td>\n",
       "    </tr>\n",
       "    <tr>\n",
       "      <th>3756</th>\n",
       "      <td>360X1266</td>\n",
       "      <td>0</td>\n",
       "    </tr>\n",
       "    <tr>\n",
       "      <th>3757</th>\n",
       "      <td>360X1267</td>\n",
       "      <td>0</td>\n",
       "    </tr>\n",
       "    <tr>\n",
       "      <th>3758</th>\n",
       "      <td>360X1268</td>\n",
       "      <td>0</td>\n",
       "    </tr>\n",
       "    <tr>\n",
       "      <th>3759</th>\n",
       "      <td>360X1269</td>\n",
       "      <td>0</td>\n",
       "    </tr>\n",
       "    <tr>\n",
       "      <th>3760</th>\n",
       "      <td>360X1270</td>\n",
       "      <td>0</td>\n",
       "    </tr>\n",
       "    <tr>\n",
       "      <th>6252</th>\n",
       "      <td>Y</td>\n",
       "      <td>0</td>\n",
       "    </tr>\n",
       "  </tbody>\n",
       "</table>\n",
       "<p>6253 rows × 2 columns</p>\n",
       "</div>"
      ],
      "text/plain": [
       "           col  count\n",
       "0       311X16     69\n",
       "2       311X14     69\n",
       "3        311X6     69\n",
       "4       311X18     69\n",
       "5       311X12     69\n",
       "6        311X4     69\n",
       "7       311X20     69\n",
       "8       311X22     69\n",
       "9       311X10     69\n",
       "10       311X8     69\n",
       "11      311X24     69\n",
       "1        311X2     69\n",
       "12      300X19     58\n",
       "13      300X18     28\n",
       "15       300X1     27\n",
       "16       300X5     27\n",
       "14       300X8     27\n",
       "17      300X15     25\n",
       "18      300X17     25\n",
       "19      300X21     24\n",
       "20      300X16     24\n",
       "1123  750X1142     19\n",
       "1133  750X1269     19\n",
       "1132  750X1268     19\n",
       "1131  750X1267     19\n",
       "1130  750X1149     19\n",
       "1129  750X1148     19\n",
       "1128  750X1147     19\n",
       "1127  750X1146     19\n",
       "1126  750X1145     19\n",
       "...        ...    ...\n",
       "3764  360X1274      0\n",
       "3762  360X1272      0\n",
       "3735   360X981      0\n",
       "3761  360X1271      0\n",
       "3736   360X985      0\n",
       "3737   360X986      0\n",
       "3738   360X988      0\n",
       "3739   360X999      0\n",
       "3740   360X989      0\n",
       "3741   360X990      0\n",
       "3742   360X991      0\n",
       "3743   360X992      0\n",
       "3744   360X993      0\n",
       "3745   360X994      0\n",
       "3746   360X995      0\n",
       "3747   360X996      0\n",
       "3748   360X997      0\n",
       "3749   360X998      0\n",
       "3750  360X1130      0\n",
       "3751  360X1132      0\n",
       "3752  360X1339      0\n",
       "3753  360X1133      0\n",
       "3754  360X1264      0\n",
       "3755  360X1265      0\n",
       "3756  360X1266      0\n",
       "3757  360X1267      0\n",
       "3758  360X1268      0\n",
       "3759  360X1269      0\n",
       "3760  360X1270      0\n",
       "6252         Y      0\n",
       "\n",
       "[6253 rows x 2 columns]"
      ]
     },
     "execution_count": 8,
     "metadata": {},
     "output_type": "execute_result"
    }
   ],
   "source": [
    "df_cnt = count_empty(pddf_remain)\n",
    "df_cnt"
   ]
  },
  {
   "cell_type": "code",
   "execution_count": 10,
   "metadata": {},
   "outputs": [
    {
     "name": "stdout",
     "output_type": "stream",
     "text": [
      "<class 'pandas.core.frame.DataFrame'>\n",
      "Index: 600 entries, ID001 to ID855\n",
      "Columns: 6253 entries, 311X16 to Y\n",
      "dtypes: float64(6253)\n",
      "memory usage: 28.6+ MB\n"
     ]
    }
   ],
   "source": [
    "# 缺失值填充: median 表示中位数, mean 表示平均数\n",
    "pddf_imp = pddf_remain\n",
    "pddf_imp.fillna(pddf_remain.median(), inplace=True)\n",
    "pddf_imp.info()"
   ]
  },
  {
   "cell_type": "code",
   "execution_count": 11,
   "metadata": {},
   "outputs": [
    {
     "name": "stdout",
     "output_type": "stream",
     "text": [
      "<class 'pandas.core.frame.DataFrame'>\n",
      "Index: 600 entries, ID001 to ID855\n",
      "Columns: 5907 entries, 311X16 to Y\n",
      "dtypes: float64(5907)\n",
      "memory usage: 27.0+ MB\n"
     ]
    }
   ],
   "source": [
    "# 筛选所有值均相同的列\n",
    "def select_same(dframe: pd.DataFrame, col_name):\n",
    "    ret = []\n",
    "    for col in col_name:\n",
    "        uniq = dframe[col].unique()\n",
    "        if len(uniq) == 1: ret.append(col)\n",
    "    return ret\n",
    "float64_col = list(pddf_imp.columns)\n",
    "float64_uniq_col = list(select_same(pddf_imp, float64_col))\n",
    "remain_col = [_ for _ in float64_col if _ not in float64_uniq_col]\n",
    "pddf_remain = pddf_remain[remain_col]\n",
    "pddf_remain.info()"
   ]
  },
  {
   "cell_type": "code",
   "execution_count": 12,
   "metadata": {},
   "outputs": [
    {
     "name": "stdout",
     "output_type": "stream",
     "text": [
      "(600, 5906)\n",
      "(600,)\n"
     ]
    }
   ],
   "source": [
    "# 生成 x, y\n",
    "x_imp = pddf_remain.drop(['Y'], axis=1)\n",
    "y = pddf_remain['Y']\n",
    "print(x_imp.shape)\n",
    "print(y.shape)"
   ]
  },
  {
   "cell_type": "code",
   "execution_count": 13,
   "metadata": {
    "collapsed": true
   },
   "outputs": [],
   "source": [
    "# 数据标准化: 最大最小值\n",
    "from sklearn.preprocessing import MinMaxScaler\n",
    "scaler = MinMaxScaler()\n",
    "x_scl = scaler.fit_transform(x_imp)\n",
    "remain_column = pddf_remain.columns[:-1]"
   ]
  },
  {
   "cell_type": "code",
   "execution_count": 14,
   "metadata": {
    "collapsed": true
   },
   "outputs": [],
   "source": [
    "# 方差筛选: 小于 0.2 的方差的特征将被删除\n",
    "from sklearn.feature_selection import VarianceThreshold\n",
    "sel = VarianceThreshold(threshold=0.2)\n",
    "x_var = sel.fit_transform(x_scl)\n",
    "x_ivar = sel.inverse_transform(x_var)"
   ]
  },
  {
   "cell_type": "code",
   "execution_count": 15,
   "metadata": {},
   "outputs": [
    {
     "name": "stdout",
     "output_type": "stream",
     "text": [
      "[5906x500] => [185x500]\n",
      "totle lost:  5721\n",
      "441   520X227     \t446   520X215     \t450   520X224     \t452   520X226     \t455   520X229     \t\n",
      "456   520X247     \t458   520X251     \t460   520X271     \t464   520X278     \t466   520X338     \t\n",
      "467   520X200     \t470   520X133     \t472   520X122     \t475   520X125     \t478   520X128     \t\n",
      "481   520X131     \t482   520X132     \t484   520X192     \t486   520X136     \t492   520X151     \t\n",
      "495   520X156     \t518   520X372     \t525   520X361     \t527   520X365     \t530   520X370     \t\n",
      "533   520X383     \t539   520X420     \t541   520X424     \t545   520X120     \t552   520X34      \t\n",
      "557   520X39      \t558   520X40      \t561   520X44      \t562   520X29      \t563   520X45      \t\n",
      "567   520X49      \t573   520X56      \t584   520X11      \t586   520X14      \t592   520X19      \t\n",
      "596   520X24      \t600   520X59      \t601   520X117     \t606   520X94      \t611   520X99      \t\n",
      "612   520X100     \t613   520X101     \t615   520X104     \t616   520X89      \t621   520X109     \t\n",
      "623   520X111     \t626   520X114     \t628   520X116     \t631   520X60      \t636   520X64      \t\n",
      "638   520X66      \t641   520X69      \t645   520X74      \t651   520X79      \t652   520X80      \t\n",
      "656   520X84      \t1023  750X1164    \t1024  750X1165    \t1185  750X1343    \t1193  750X1353    \t\n",
      "1255  750X1003    \t1256  750X1002    \t1564  520X281     \t1569  520X285     \t1570  520X284     \t\n",
      "1572  520X282     \t1686  520X174     \t1704  400X112     \t1705  400X111     \t1707  400X109     \t\n",
      "1710  400X157     \t1711  400X156     \t1721  400X147     \t1722  400X146     \t1729  400X108     \t\n",
      "1776  400X35      \t1783  400X204     \t1804  400X160     \t1831  420X36      \t1836  420X147     \t\n",
      "1838  420X159     \t1869  420X134     \t1870  420X135     \t1883  420X110     \t2152  220X535     \t\n",
      "2159  220X543     \t2169  220X481     \t2182  220X485     \t2200  220X489     \t2210  220X486     \t\n",
      "2334  360X817     \t2377  360X796     \t2387  360X806     \t2388  360X807     \t2498  360X916     \t\n",
      "3400  360X926     \t3565  360X1160    \t3566  360X1161    \t3573  360X1158    \t3585  360X1157    \t\n",
      "3607  360X1153    \t3608  360X1154    \t3609  360X1155    \t3669  261X644     \t3717  312X1       \t\n",
      "3718  261X762     \t3753  261X512     \t3770  261X407     \t3773  261X458     \t3785  261X438     \t\n",
      "3790  261X603     \t3805  261X632     \t3811  261X622     \t3822  261X575     \t3823  261X574     \t\n",
      "3861  330X17      \t3862  330X16      \t3865  330X12      \t4019  220X20      \t4043  310X44      \t\n",
      "4282  261X250     \t4305  261X271     \t4397  310X161     \t4519  330X1236    \t4521  330X1234    \t\n",
      "4523  330X1232    \t4524  330X1231    \t4526  330X1229    \t4527  330X1228    \t4528  330X1227    \t\n",
      "4529  330X1226    \t4530  330X1225    \t4531  330X1224    \t4542  340X113     \t4557  340X48      \t\n",
      "4559  340X46      \t4560  340X45      \t4561  340X43      \t4562  340X42      \t4563  340X41      \t\n",
      "4564  340X39      \t4567  340X36      \t4568  340X35      \t4569  340X34      \t4570  340X33      \t\n",
      "4610  330X1067    \t4611  330X1066    \t4615  330X1062    \t4618  330X1059    \t4690  330X1068    \t\n",
      "4692  330X1070    \t4723  330X1183    \t4725  330X1181    \t4742  330X1071    \t4764  330X1074    \t\n",
      "4765  330X1073    \t4768  330X1099    \t4781  330X1114    \t4782  330X1113    \t4784  330X1111    \t\n",
      "4785  330X1110    \t4787  330X1108    \t4788  330X1107    \t4789  330X1106    \t4791  330X1102    \t\n",
      "4861  360X96      \t4862  360X93      \t4957  344X99      \t4959  344X96      \t4960  344X93      \t\n",
      "4961  344X91      \t4962  344X90      \t4995  344X102     \t5003  344X105     \t5011  344X111     \t\n",
      "5013  344X108     \t5763  330X500     \t5773  330X490     \t5778  330X517     \t5900  330X649     \t\n",
      "\n"
     ]
    }
   ],
   "source": [
    "# 方差筛选后, 表中缺失列\n",
    "old_shape, new_shape = len(x_scl[0]), len(x_var[0])\n",
    "print('[{0}x500] => [{1}x500]'.format( old_shape, new_shape ))\n",
    "print('totle lost: ', old_shape - new_shape)\n",
    "l2 = len(sel._get_support_mask())\n",
    "selected = sel._get_support_mask()\n",
    "valid_mask = selected\n",
    "original_column = remain_column\n",
    "cnt = 0\n",
    "for i in range(l2):\n",
    "    if selected[i]:\n",
    "        print(str(i).ljust(5), original_column[i].ljust(12), end='\\t')\n",
    "        cnt += 1\n",
    "        if cnt > 0 and cnt % 5 == 0: print()\n",
    "print()\n",
    "remain_column = original_column[valid_mask]"
   ]
  },
  {
   "cell_type": "code",
   "execution_count": 16,
   "metadata": {
    "collapsed": true
   },
   "outputs": [],
   "source": [
    "# 特征筛选: PCA 降维 重构系数 99%\n",
    "from sklearn.decomposition import PCA\n",
    "est = PCA(n_components=37)\n",
    "x_pca = est.fit_transform(x_var)"
   ]
  },
  {
   "cell_type": "code",
   "execution_count": 17,
   "metadata": {},
   "outputs": [
    {
     "name": "stdout",
     "output_type": "stream",
     "text": [
      "(600, 37) (600,)\n",
      "(600, 38)\n"
     ]
    }
   ],
   "source": [
    "# 将 x,y 拼接并按照 y 值大小排序, 观察 y 的性质\n",
    "x_final = x_pca\n",
    "print(np.shape(x_final), np.shape(y)) # x_final = [600x37], y = [600x1]\n",
    "xy = np.column_stack((x_final, y)) # xy = [x_final, y], [600x37]\n",
    "print(np.shape(xy))\n",
    "xy_sortby_y = xy[xy[:, -1].argsort()]"
   ]
  },
  {
   "cell_type": "code",
   "execution_count": 18,
   "metadata": {
    "collapsed": true
   },
   "outputs": [],
   "source": [
    "# 发现非线性关系后 规整化 y 并重新组装\n",
    "def fu(y): # f: y -> u\n",
    "    a = 0.172020013840487\n",
    "    b = 2.355955139758581\n",
    "    c = 0.028332501141596\n",
    "    d = 0.450477070771684\n",
    "    return (np.arctan((y - d) / a) - c) / b\n",
    "\n",
    "def gy(u): # g: u -> y\n",
    "    a = 0.172020013840487\n",
    "    b = 2.355955139758581\n",
    "    c = 0.028332501141596\n",
    "    d = 0.450477070771684\n",
    "    return a * np.tan(b * u + c) + d\n",
    "\n",
    "def scalar(a, amax, amin):\n",
    "    return (a - amin) / (amax - amin)\n",
    "\n",
    "def rebuild(a, amax, amin):\n",
    "    return a * (amax - amin) + amin;\n",
    "    \n",
    "y_sorted = xy_sortby_y[:, -1]\n",
    "ymin = np.min(y_sorted)\n",
    "ymax = np.max(y_sorted)\n",
    "y_scl = (y_sorted - ymin) / (ymax - ymin)\n",
    "xy_sortby_y[:, -1] = y_scl\n",
    "y_smooth = fu(y_scl)\n",
    "xy_sortby_y[:, -1] = y_smooth"
   ]
  },
  {
   "cell_type": "code",
   "execution_count": 19,
   "metadata": {
    "scrolled": true
   },
   "outputs": [
    {
     "name": "stderr",
     "output_type": "stream",
     "text": [
      "D:\\Anaconda3\\lib\\site-packages\\sklearn\\cross_validation.py:44: DeprecationWarning: This module was deprecated in version 0.18 in favor of the model_selection module into which all the refactored classes and functions are moved. Also note that the interface of the new CV iterators are different from that of this module. This module will be removed in 0.20.\n",
      "  \"This module will be removed in 0.20.\", DeprecationWarning)\n"
     ]
    },
    {
     "data": {
      "image/png": "[encoded data removed]",
      "text/plain": [
       "<matplotlib.figure.Figure at 0xd1e4470>"
      ]
     },
     "metadata": {},
     "output_type": "display_data"
    }
   ],
   "source": [
    "# 5折交叉验证, 这里使用了不变换的 y\n",
    "from sklearn.cross_validation import train_test_split\n",
    "x_now, y_now = xy_sortby_y[:, :-1], y_scl\n",
    "x_train, x_test, y_train, y_test = train_test_split(x_now, y_now, random_state=1, test_size=0.2)\n",
    "plt.scatter(np.linspace(-0.5, 0.5, 480), sorted(y_train))\n",
    "plt.show()"
   ]
  },
  {
   "cell_type": "code",
   "execution_count": 20,
   "metadata": {
    "scrolled": true
   },
   "outputs": [
    {
     "name": "stderr",
     "output_type": "stream",
     "text": [
      "D:\\Anaconda3\\lib\\site-packages\\sklearn\\grid_search.py:43: DeprecationWarning: This module was deprecated in version 0.18 in favor of the model_selection module into which all the refactored classes and functions are moved. This module will be removed in 0.20.\n",
      "  DeprecationWarning)\n"
     ]
    }
   ],
   "source": [
    "from xgboost import XGBRegressor\n",
    "from sklearn.metrics import mean_squared_error, mean_absolute_error\n",
    "from sklearn.pipeline import Pipeline\n",
    "from sklearn.grid_search import GridSearchCV\n",
    "workflow = Pipeline([ ('xgbr', XGBRegressor())])\n",
    "tuned_parameters = {\n",
    "    'xgbr__learning_rate': np.array([0.015, 0.025, 0.05]), \n",
    "    'xgbr__gamma': np.array([0.05, 0.1, 0.3, 0.5, 0.7]),\n",
    "    'xgbr__reg_alpha': np.array([0, 0.1, 0.5, 1.0]),\n",
    "    'xgbr__reg_lambda': np.array([0.01, 0.1, 1.0]),\n",
    "    'xgbr__max_depth': np.array([3, 5, 7, 9]),\n",
    "    'xgbr__subsample': np.array([0.8, 0.9, 1.0]),\n",
    "    'xgbr__colsample_bytree': np.array([0.7, 0.8, 0.9]), \n",
    "}\n",
    "scores = ['neg_mean_squared_error', 'neg_mean_absolute_error']"
   ]
  },
  {
   "cell_type": "code",
   "execution_count": 21,
   "metadata": {},
   "outputs": [
    {
     "name": "stdout",
     "output_type": "stream",
     "text": [
      "XGBoost Regression MSE Error:  0.0417711681527\n",
      "XGBoost Regression MAE Error:  0.162628226108\n",
      "0.12046245711\n"
     ]
    }
   ],
   "source": [
    "# XGBoost 回归 default\n",
    "from xgboost import XGBRegressor\n",
    "xgbr = XGBRegressor()\n",
    "xgbr.fit(x_train, y_train)\n",
    "y_pred = xgbr.predict(x_test)\n",
    "yh_rebuild = rebuild((y_pred), ymin, ymax)\n",
    "ytest_rebuild = rebuild((y_test), ymin, ymax)\n",
    "mse_err = mean_squared_error(yh_rebuild, ytest_rebuild)\n",
    "print('XGBoost Regression MSE Error: ', mse_err)\n",
    "mae_err = mean_absolute_error(yh_rebuild, ytest_rebuild)\n",
    "print('XGBoost Regression MAE Error: ', mae_err)\n",
    "print(xgbr.score(x_test, y_test))"
   ]
  },
  {
   "cell_type": "code",
   "execution_count": null,
   "metadata": {
    "collapsed": true
   },
   "outputs": [],
   "source": [
    "# # XGBoost 回归 MSE\n",
    "# from xgboost import XGBRegressor\n",
    "# xgbr_mse = XGBRegressor()\n",
    "# xgbr_mse.fit(x_train, y_train)\n",
    "# y_pred = xgbr_mse.predict(x_test)\n",
    "# yh_rebuild = rebuild(gy(y_pred), ymin, ymax)\n",
    "# ytest_rebuild = rebuild(gy(y_test), ymin, ymax)\n",
    "# mse_err = mean_squared_error(yh_rebuild, ytest_rebuild)\n",
    "# print('XGBoost Regression MSE Error: ', mse_err)\n",
    "# mae_err = mean_absolute_error(yh_rebuild, ytest_rebuild)\n",
    "# print('XGBoost Regression MAE Error: ', mae_err)\n",
    "# print(xgbr_mse.score(x_test, y_test))"
   ]
  },
  {
   "cell_type": "code",
   "execution_count": 22,
   "metadata": {},
   "outputs": [
    {
     "name": "stdout",
     "output_type": "stream",
     "text": [
      "XGBoost Regression MSE Error:  0.04116376863\n",
      "XGBoost Regression MAE Error:  0.164945866661\n",
      "0.133251928415\n"
     ]
    }
   ],
   "source": [
    "# XGBoost 回归 MAE\n",
    "from xgboost import XGBRegressor\n",
    "xgbr_mae = XGBRegressor(learning_rate=0.05,\n",
    "    gamma=0.05,\n",
    "    reg_alpha=0.5,\n",
    "    reg_lambda=0.1,\n",
    "    max_depth=5,\n",
    "    subsample=0.8,\n",
    "    colsample_bytree=0.7\n",
    ")\n",
    "xgbr_mae.fit(x_train, y_train)\n",
    "y_pred = xgbr_mae.predict(x_test)\n",
    "yh_rebuild = rebuild((y_pred), ymin, ymax)\n",
    "ytest_rebuild = rebuild((y_test), ymin, ymax)\n",
    "mse_err = mean_squared_error(yh_rebuild, ytest_rebuild)\n",
    "print('XGBoost Regression MSE Error: ', mse_err)\n",
    "mae_err = mean_absolute_error(yh_rebuild, ytest_rebuild)\n",
    "print('XGBoost Regression MAE Error: ', mae_err)\n",
    "print(xgbr_mae.score(x_test, y_test))"
   ]
  },
  {
   "cell_type": "code",
   "execution_count": 23,
   "metadata": {},
   "outputs": [
    {
     "name": "stdout",
     "output_type": "stream",
     "text": [
      "XGBoost Regression MSE Error:  0.0122963331043\n",
      "XGBoost Regression MAE Error:  0.0876778603028\n",
      "0.741087366809\n"
     ]
    }
   ],
   "source": [
    "# XGBoost 回归 MAE\n",
    "from xgboost import XGBRegressor\n",
    "xgbr_mae = XGBRegressor(learning_rate=0.05,\n",
    "    gamma=0.05,\n",
    "    reg_alpha=0.5,\n",
    "    reg_lambda=0.1,\n",
    "    max_depth=5,\n",
    "    subsample=0.8,\n",
    "    colsample_bytree=0.7\n",
    ")\n",
    "xgbr_mae.fit(x_now, y_now)\n",
    "y_pred = xgbr_mae.predict(x_test)\n",
    "yh_rebuild = rebuild((y_pred), ymin, ymax)\n",
    "ytest_rebuild = rebuild((y_test), ymin, ymax)\n",
    "mse_err = mean_squared_error(yh_rebuild, ytest_rebuild)\n",
    "print('XGBoost Regression MSE Error: ', mse_err)\n",
    "mae_err = mean_absolute_error(yh_rebuild, ytest_rebuild)\n",
    "print('XGBoost Regression MAE Error: ', mae_err)\n",
    "print(xgbr_mae.score(x_test, y_test))"
   ]
  },
  {
   "cell_type": "code",
   "execution_count": 33,
   "metadata": {},
   "outputs": [
    {
     "name": "stdout",
     "output_type": "stream",
     "text": [
      "Support Vector Regression MSE Error:  0.039203138566\n",
      "Support Vector Regression MAE Error:  0.159512729036\n",
      "0.174535165533\n"
     ]
    }
   ],
   "source": [
    "# 超参数搜索后的模型 MAE\n",
    "from sklearn.svm import SVR\n",
    "model_svr_rbf_ = SVR(kernel='rbf', C=1.2915496650148841, gamma=0.01)\n",
    "model_svr_rbf_.fit(x_train, y_train)\n",
    "y_pred = model_svr_rbf_.predict(x_test)\n",
    "yh_rebuild = rebuild((y_pred), ymin, ymax)\n",
    "ytest_rebuild = rebuild((y_test), ymin, ymax)\n",
    "mse_err = mean_squared_error(yh_rebuild, ytest_rebuild)\n",
    "print('Support Vector Regression MSE Error: ', mse_err)\n",
    "mae_err = mean_absolute_error(yh_rebuild, ytest_rebuild)\n",
    "print('Support Vector Regression MAE Error: ', mae_err)\n",
    "print(model_svr_rbf_.score(x_test, y_test))"
   ]
  },
  {
   "cell_type": "code",
   "execution_count": 31,
   "metadata": {
    "collapsed": true
   },
   "outputs": [],
   "source": [
    "# Summary 最终流程\n",
    "# 保留列\n",
    "remain_header = list(remain_column)\n",
    "save_pickle('remain_header.bin', remain_header)\n",
    "# 模型本体\n",
    "save_pickle('pca.bin', est)\n",
    "save_pickle('xgbr2.model.bin', xgbr_mae)\n",
    "save_pickle('svr_rbf.model.bin', model_svr_rbf_)\n",
    "# 反演函数\n",
    "def gy(u): # g: u -> y\n",
    "    a = 0.172020013840487\n",
    "    b = 2.355955139758581\n",
    "    c = 0.028332501141596\n",
    "    d = 0.450477070771684\n",
    "    return a * np.tan(b * u + c) + d\n",
    "ys = [ymin, ymax]\n",
    "save_pickle('ys.bin', ys)"
   ]
  }
 ],
 "metadata": {
  "kernelspec": {
   "display_name": "Python 3",
   "language": "python",
   "name": "python3"
  },
  "language_info": {
   "codemirror_mode": {
    "name": "ipython",
    "version": 3
   },
   "file_extension": ".py",
   "mimetype": "text/x-python",
   "name": "python",
   "nbconvert_exporter": "python",
   "pygments_lexer": "ipython3",
   "version": "3.6.2"
  }
 },
 "nbformat": 4,
 "nbformat_minor": 2
}
